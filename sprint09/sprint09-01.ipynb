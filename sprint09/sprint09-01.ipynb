{
 "cells": [
  {
   "cell_type": "markdown",
   "metadata": {},
   "source": [
    "**Название проекта**:  \n",
    "Оператор мобильной связи «Мегалайн»   \n",
    "_____\n",
    "**Описание исследования**:  \n",
    "Многие клиенты Мегалайна пользуются архивными тарифами. Мегалайн хотят построить систему, способную проанализировать поведение клиентов и предложить пользователям новый тариф: «Смарт» или «Ультра».\n",
    "Имеются данные о поведении клиентов, которые уже перешли на эти тарифы. Нужно построить модель для задачи классификации, которая выберет подходящий тариф. \n",
    "_____\n",
    "**Цель исследования**:  \n",
    "Построение модели классификации, способной отличить клиентов, переходящих на тарифы \"Ультра\", от клиентов, остающихся на тарифах \"Смарт\"\n",
    "_____\n",
    "**План исследования.**  \n",
    "[Шаг 1. Загрузка файла с данными и изучение общей информации](#step1)  \n",
    "[Шаг 2. Разделение исходных данных на обучающую, валидационную и тестовую выборки](#step2)  \n",
    "[Шаг 3. Исследование качества разных моделей](#step3)  \n",
    "[Шаг 4. Проверка качества модели на тестовой выборке](#step4)  \n",
    "[Шаг 5. Общие результаты и выводы](#step6)  \n",
    "\n",
    "_____\n",
    "**Исходные данные.**\n",
    "Исходный файл <a HREF='user_behavior.csv'>user_behavior.csv</a>, содержащий информацию о поведении одного пользователей за месяц.  \n",
    "поля файла:\n",
    "- сalls — количество звонков\n",
    "- minutes — суммарная длительность звонков в минутах\n",
    "- messages — количество sms-сообщений\n",
    "- mb_used — израсходованный интернет-трафик в Мб\n",
    "- is_ultra — каким тарифом пользовался в течение месяца («Ультра» — 1, «Смарт» — 0).\n"
   ]
  },
  {
   "cell_type": "markdown",
   "metadata": {},
   "source": [
    "<a id='step1'></a>\n",
    "## Шаг 1. Загрузка файла с данными и изучение общей информации"
   ]
  },
  {
   "cell_type": "code",
   "execution_count": 185,
   "metadata": {},
   "outputs": [],
   "source": [
    "# импортируем библиотеки\n",
    "\n",
    "import pandas as pd\n",
    "from sklearn.model_selection import train_test_split as tts\n",
    "from sklearn.metrics import accuracy_score\n",
    "from sklearn.tree import DecisionTreeClassifier\n",
    "from sklearn.ensemble import RandomForestClassifier\n",
    "from sklearn.ensemble import AdaBoostClassifier\n",
    "from sklearn.linear_model import LogisticRegression\n",
    "from sklearn.naive_bayes import GaussianNB\n",
    "from sklearn.neighbors import KNeighborsClassifier"
   ]
  },
  {
   "cell_type": "code",
   "execution_count": 186,
   "metadata": {},
   "outputs": [
    {
     "name": "stdout",
     "output_type": "stream",
     "text": [
      "local load successful\n"
     ]
    }
   ],
   "source": [
    "try:\n",
    "    df = pd.read_csv('users_behavior.csv')\n",
    "    print('local load successful')\n",
    "except:\n",
    "    print('local load failed, loading from the inernet')\n",
    "    df = pd.read_csv('https://code.s3.yandex.net/datasets/users_behavior.csv')"
   ]
  },
  {
   "cell_type": "code",
   "execution_count": 187,
   "metadata": {},
   "outputs": [
    {
     "data": {
      "text/html": [
       "<div>\n",
       "<style scoped>\n",
       "    .dataframe tbody tr th:only-of-type {\n",
       "        vertical-align: middle;\n",
       "    }\n",
       "\n",
       "    .dataframe tbody tr th {\n",
       "        vertical-align: top;\n",
       "    }\n",
       "\n",
       "    .dataframe thead th {\n",
       "        text-align: right;\n",
       "    }\n",
       "</style>\n",
       "<table border=\"1\" class=\"dataframe\">\n",
       "  <thead>\n",
       "    <tr style=\"text-align: right;\">\n",
       "      <th></th>\n",
       "      <th>calls</th>\n",
       "      <th>minutes</th>\n",
       "      <th>messages</th>\n",
       "      <th>mb_used</th>\n",
       "      <th>is_ultra</th>\n",
       "    </tr>\n",
       "  </thead>\n",
       "  <tbody>\n",
       "    <tr>\n",
       "      <th>0</th>\n",
       "      <td>40.0</td>\n",
       "      <td>311.90</td>\n",
       "      <td>83.0</td>\n",
       "      <td>19915.42</td>\n",
       "      <td>0</td>\n",
       "    </tr>\n",
       "    <tr>\n",
       "      <th>1</th>\n",
       "      <td>85.0</td>\n",
       "      <td>516.75</td>\n",
       "      <td>56.0</td>\n",
       "      <td>22696.96</td>\n",
       "      <td>0</td>\n",
       "    </tr>\n",
       "    <tr>\n",
       "      <th>2</th>\n",
       "      <td>77.0</td>\n",
       "      <td>467.66</td>\n",
       "      <td>86.0</td>\n",
       "      <td>21060.45</td>\n",
       "      <td>0</td>\n",
       "    </tr>\n",
       "    <tr>\n",
       "      <th>3</th>\n",
       "      <td>106.0</td>\n",
       "      <td>745.53</td>\n",
       "      <td>81.0</td>\n",
       "      <td>8437.39</td>\n",
       "      <td>1</td>\n",
       "    </tr>\n",
       "    <tr>\n",
       "      <th>4</th>\n",
       "      <td>66.0</td>\n",
       "      <td>418.74</td>\n",
       "      <td>1.0</td>\n",
       "      <td>14502.75</td>\n",
       "      <td>0</td>\n",
       "    </tr>\n",
       "  </tbody>\n",
       "</table>\n",
       "</div>"
      ],
      "text/plain": [
       "   calls  minutes  messages   mb_used  is_ultra\n",
       "0   40.0   311.90      83.0  19915.42         0\n",
       "1   85.0   516.75      56.0  22696.96         0\n",
       "2   77.0   467.66      86.0  21060.45         0\n",
       "3  106.0   745.53      81.0   8437.39         1\n",
       "4   66.0   418.74       1.0  14502.75         0"
      ]
     },
     "execution_count": 187,
     "metadata": {},
     "output_type": "execute_result"
    }
   ],
   "source": [
    "df.head()"
   ]
  },
  {
   "cell_type": "code",
   "execution_count": 188,
   "metadata": {},
   "outputs": [
    {
     "name": "stdout",
     "output_type": "stream",
     "text": [
      "<class 'pandas.core.frame.DataFrame'>\n",
      "RangeIndex: 3214 entries, 0 to 3213\n",
      "Data columns (total 5 columns):\n",
      " #   Column    Non-Null Count  Dtype  \n",
      "---  ------    --------------  -----  \n",
      " 0   calls     3214 non-null   float64\n",
      " 1   minutes   3214 non-null   float64\n",
      " 2   messages  3214 non-null   float64\n",
      " 3   mb_used   3214 non-null   float64\n",
      " 4   is_ultra  3214 non-null   int64  \n",
      "dtypes: float64(4), int64(1)\n",
      "memory usage: 125.7 KB\n"
     ]
    }
   ],
   "source": [
    "df.info()"
   ]
  },
  {
   "cell_type": "code",
   "execution_count": 189,
   "metadata": {},
   "outputs": [
    {
     "data": {
      "text/plain": [
       "array([0, 1], dtype=int64)"
      ]
     },
     "execution_count": 189,
     "metadata": {},
     "output_type": "execute_result"
    }
   ],
   "source": [
    "df.is_ultra.unique()"
   ]
  },
  {
   "cell_type": "code",
   "execution_count": 190,
   "metadata": {},
   "outputs": [
    {
     "data": {
      "text/html": [
       "<div>\n",
       "<style scoped>\n",
       "    .dataframe tbody tr th:only-of-type {\n",
       "        vertical-align: middle;\n",
       "    }\n",
       "\n",
       "    .dataframe tbody tr th {\n",
       "        vertical-align: top;\n",
       "    }\n",
       "\n",
       "    .dataframe thead th {\n",
       "        text-align: right;\n",
       "    }\n",
       "</style>\n",
       "<table border=\"1\" class=\"dataframe\">\n",
       "  <thead>\n",
       "    <tr style=\"text-align: right;\">\n",
       "      <th></th>\n",
       "      <th>calls</th>\n",
       "      <th>minutes</th>\n",
       "      <th>messages</th>\n",
       "      <th>mb_used</th>\n",
       "      <th>is_ultra</th>\n",
       "    </tr>\n",
       "  </thead>\n",
       "  <tbody>\n",
       "    <tr>\n",
       "      <th>count</th>\n",
       "      <td>3214.000000</td>\n",
       "      <td>3214.000000</td>\n",
       "      <td>3214.000000</td>\n",
       "      <td>3214.000000</td>\n",
       "      <td>3214.000000</td>\n",
       "    </tr>\n",
       "    <tr>\n",
       "      <th>mean</th>\n",
       "      <td>63.038892</td>\n",
       "      <td>438.208787</td>\n",
       "      <td>38.281269</td>\n",
       "      <td>17207.673836</td>\n",
       "      <td>0.306472</td>\n",
       "    </tr>\n",
       "    <tr>\n",
       "      <th>std</th>\n",
       "      <td>33.236368</td>\n",
       "      <td>234.569872</td>\n",
       "      <td>36.148326</td>\n",
       "      <td>7570.968246</td>\n",
       "      <td>0.461100</td>\n",
       "    </tr>\n",
       "    <tr>\n",
       "      <th>min</th>\n",
       "      <td>0.000000</td>\n",
       "      <td>0.000000</td>\n",
       "      <td>0.000000</td>\n",
       "      <td>0.000000</td>\n",
       "      <td>0.000000</td>\n",
       "    </tr>\n",
       "    <tr>\n",
       "      <th>25%</th>\n",
       "      <td>40.000000</td>\n",
       "      <td>274.575000</td>\n",
       "      <td>9.000000</td>\n",
       "      <td>12491.902500</td>\n",
       "      <td>0.000000</td>\n",
       "    </tr>\n",
       "    <tr>\n",
       "      <th>50%</th>\n",
       "      <td>62.000000</td>\n",
       "      <td>430.600000</td>\n",
       "      <td>30.000000</td>\n",
       "      <td>16943.235000</td>\n",
       "      <td>0.000000</td>\n",
       "    </tr>\n",
       "    <tr>\n",
       "      <th>75%</th>\n",
       "      <td>82.000000</td>\n",
       "      <td>571.927500</td>\n",
       "      <td>57.000000</td>\n",
       "      <td>21424.700000</td>\n",
       "      <td>1.000000</td>\n",
       "    </tr>\n",
       "    <tr>\n",
       "      <th>max</th>\n",
       "      <td>244.000000</td>\n",
       "      <td>1632.060000</td>\n",
       "      <td>224.000000</td>\n",
       "      <td>49745.730000</td>\n",
       "      <td>1.000000</td>\n",
       "    </tr>\n",
       "  </tbody>\n",
       "</table>\n",
       "</div>"
      ],
      "text/plain": [
       "             calls      minutes     messages       mb_used     is_ultra\n",
       "count  3214.000000  3214.000000  3214.000000   3214.000000  3214.000000\n",
       "mean     63.038892   438.208787    38.281269  17207.673836     0.306472\n",
       "std      33.236368   234.569872    36.148326   7570.968246     0.461100\n",
       "min       0.000000     0.000000     0.000000      0.000000     0.000000\n",
       "25%      40.000000   274.575000     9.000000  12491.902500     0.000000\n",
       "50%      62.000000   430.600000    30.000000  16943.235000     0.000000\n",
       "75%      82.000000   571.927500    57.000000  21424.700000     1.000000\n",
       "max     244.000000  1632.060000   224.000000  49745.730000     1.000000"
      ]
     },
     "execution_count": 190,
     "metadata": {},
     "output_type": "execute_result"
    }
   ],
   "source": [
    "df.describe()"
   ]
  },
  {
   "cell_type": "markdown",
   "metadata": {},
   "source": [
    "Данные достаточно распределены, средние к медианам достаточно близки  \n",
    "целевая переменная `is_ultra` представляет собой значения 0 или 1  \n",
    "целевая переменная не вполне сбалансирована (около 30% значений 1 и соответственно 70% значений 0)\n",
    "необходимо выбрать модели классификации, подобрать параметры и обучить наиболее подходящую"
   ]
  },
  {
   "cell_type": "markdown",
   "metadata": {},
   "source": [
    "<a id='step2'></a>\n",
    "## Шаг 2. Разделение исходных данных на обучающую, валидационную и тестовую выборки"
   ]
  },
  {
   "cell_type": "code",
   "execution_count": 191,
   "metadata": {},
   "outputs": [],
   "source": [
    "features = df.drop('is_ultra', axis='columns')\n",
    "target = df['is_ultra']"
   ]
  },
  {
   "cell_type": "code",
   "execution_count": 192,
   "metadata": {},
   "outputs": [],
   "source": [
    "# сначала отделяем 10% записей для тестовой выборки, на которой будем сравнивать выбранные модели\n",
    "\n",
    "features_train, x_test, target_train, y_test = tts(features, target, test_size=0.1, random_state=54321)"
   ]
  },
  {
   "cell_type": "code",
   "execution_count": 193,
   "metadata": {},
   "outputs": [],
   "source": [
    "# от оставшихся 90% 75% отправляем в обучающую выборку, 25% - в валидационную\n",
    "\n",
    "x_train, x_valid, y_train, y_valid = tts(features_train, target_train, test_size=0.25, random_state=54321)"
   ]
  },
  {
   "cell_type": "code",
   "execution_count": 194,
   "metadata": {},
   "outputs": [
    {
     "data": {
      "text/plain": [
       "(2169, 4)"
      ]
     },
     "metadata": {},
     "output_type": "display_data"
    },
    {
     "data": {
      "text/plain": [
       "(2169,)"
      ]
     },
     "metadata": {},
     "output_type": "display_data"
    },
    {
     "data": {
      "text/plain": [
       "(723, 4)"
      ]
     },
     "metadata": {},
     "output_type": "display_data"
    },
    {
     "data": {
      "text/plain": [
       "(723,)"
      ]
     },
     "metadata": {},
     "output_type": "display_data"
    },
    {
     "data": {
      "text/plain": [
       "(322, 4)"
      ]
     },
     "metadata": {},
     "output_type": "display_data"
    },
    {
     "data": {
      "text/plain": [
       "(322,)"
      ]
     },
     "metadata": {},
     "output_type": "display_data"
    }
   ],
   "source": [
    "# проверяем размеры выборок\n",
    "\n",
    "display(x_train.shape)\n",
    "display(y_train.shape)\n",
    "display(x_valid.shape)\n",
    "display(y_valid.shape)\n",
    "display(x_test.shape)\n",
    "display(y_test.shape)"
   ]
  },
  {
   "cell_type": "markdown",
   "metadata": {},
   "source": [
    "<a id='step3'></a>\n",
    "## Шаг 3. Исследование качества разных моделей"
   ]
  },
  {
   "cell_type": "code",
   "execution_count": 195,
   "metadata": {},
   "outputs": [],
   "source": [
    "# пишем процедуру, которая обучает инициализированную модель, сравнивает метрики на валидационной выборке и возвращает\n",
    "# новую метрику и модель если метрика выше\n",
    "# старую метрику и модель, если улучшения нет\n",
    "def process_model(model, hyper, best_metric, best_model, best_hyper):\n",
    "    model.fit(x_train, y_train)\n",
    "    y_pred = model.predict(x_valid)\n",
    "    metric = accuracy_score(y_valid, y_pred)\n",
    "    if metric < best_metric:\n",
    "        return best_metric, best_model, best_hyper\n",
    "    else:\n",
    "        return metric, model, hyper"
   ]
  },
  {
   "cell_type": "code",
   "execution_count": 196,
   "metadata": {},
   "outputs": [],
   "source": [
    "# небольшая процедура для запуска выбора лучших параметров\n",
    "def start():\n",
    "    global best_metric\n",
    "    global best_model\n",
    "    global best_hyper\n",
    "    best_metric = -1.0\n",
    "    best_model = None\n",
    "    best_hyper = ''\n",
    "    return"
   ]
  },
  {
   "cell_type": "code",
   "execution_count": 197,
   "metadata": {},
   "outputs": [],
   "source": [
    "# небольшая процедура для завершения выбора модели с лучшими параметрами:\n",
    "# выводим на экран хначение метрики, добавляем лучшую модель в список выбранных моделей\n",
    "def finish():\n",
    "    global models\n",
    "    models.append(best_model)\n",
    "    print(f'accuracy: {best_metric}\\nmodel type: {type(best_model)}\\nhyper parameters: {best_hyper}')"
   ]
  },
  {
   "cell_type": "code",
   "execution_count": 198,
   "metadata": {},
   "outputs": [],
   "source": [
    "# создаем список для моделей с выбранными наилучшими параметрами\n",
    "models = []"
   ]
  },
  {
   "cell_type": "code",
   "execution_count": 199,
   "metadata": {},
   "outputs": [
    {
     "name": "stdout",
     "output_type": "stream",
     "text": [
      "accuracy: 0.7980636237897649\n",
      "model type: <class 'sklearn.tree._classes.DecisionTreeClassifier'>\n",
      "hyper parameters: max_depth=4\n"
     ]
    }
   ],
   "source": [
    "# подбираем параметры для DecisionTreeClassifier\n",
    "start()\n",
    "for i in range(1, 10):\n",
    "    model = DecisionTreeClassifier(max_depth=i, random_state=54321)\n",
    "    hyper = f'max_depth={i}'\n",
    "    best_metric, best_model, best_hyper = process_model(model, hyper, best_metric, best_model, best_hyper)\n",
    "finish()"
   ]
  },
  {
   "cell_type": "code",
   "execution_count": 200,
   "metadata": {},
   "outputs": [
    {
     "name": "stdout",
     "output_type": "stream",
     "text": [
      "accuracy: 0.8201936376210235\n",
      "model type: <class 'sklearn.ensemble._forest.RandomForestClassifier'>\n",
      "hyper parameters: max_depth=8, n_estimators=21\n"
     ]
    }
   ],
   "source": [
    "# подбираем параметры для RandomForestClassifier\n",
    "start()\n",
    "for i in range(1, 10):\n",
    "    for j in range(1, 40, 4):\n",
    "        model = RandomForestClassifier(max_depth=i, n_estimators=j, random_state=54321)\n",
    "        hyper = f'max_depth={i}, n_estimators={j}'\n",
    "        best_metric, best_model, best_hyper = process_model(model, hyper, best_metric, best_model, best_hyper)\n",
    "finish()"
   ]
  },
  {
   "cell_type": "code",
   "execution_count": 201,
   "metadata": {},
   "outputs": [
    {
     "name": "stdout",
     "output_type": "stream",
     "text": [
      "accuracy: 0.8077455048409405\n",
      "model type: <class 'sklearn.ensemble._weight_boosting.AdaBoostClassifier'>\n",
      "hyper parameters: n_estimators=32\n"
     ]
    }
   ],
   "source": [
    "# подбираем параметры для AdaBoostClassifier\n",
    "start()\n",
    "for j in range(1, 40):\n",
    "    model = AdaBoostClassifier(n_estimators=j, random_state=54321)\n",
    "    hyper = f'n_estimators={j}'\n",
    "    best_metric, best_model, best_hyper = process_model(model, hyper, best_metric, best_model, best_hyper)\n",
    "finish()"
   ]
  },
  {
   "cell_type": "code",
   "execution_count": 202,
   "metadata": {},
   "outputs": [
    {
     "name": "stdout",
     "output_type": "stream",
     "text": [
      "accuracy: 0.7095435684647303\n",
      "model type: <class 'sklearn.linear_model._logistic.LogisticRegression'>\n",
      "hyper parameters: \n"
     ]
    }
   ],
   "source": [
    "# у логистрической регрессии нет параметров\n",
    "start()\n",
    "model = LogisticRegression()\n",
    "hyper = ''\n",
    "best_metric, best_model, best_hyper = process_model(model, hyper, best_metric, best_model, best_hyper)\n",
    "finish()"
   ]
  },
  {
   "cell_type": "code",
   "execution_count": 203,
   "metadata": {},
   "outputs": [
    {
     "name": "stdout",
     "output_type": "stream",
     "text": [
      "accuracy: 0.7952973720608575\n",
      "model type: <class 'sklearn.naive_bayes.GaussianNB'>\n",
      "hyper parameters: \n"
     ]
    }
   ],
   "source": [
    "# у наивного байеса нет параметров\n",
    "start()\n",
    "model = GaussianNB()\n",
    "hyper = ''\n",
    "best_metric, best_model, best_hyper = process_model(model, hyper, best_metric, best_model, best_hyper)\n",
    "finish()"
   ]
  },
  {
   "cell_type": "code",
   "execution_count": 204,
   "metadata": {},
   "outputs": [
    {
     "name": "stdout",
     "output_type": "stream",
     "text": [
      "accuracy: 0.7676348547717843\n",
      "model type: <class 'sklearn.neighbors._classification.KNeighborsClassifier'>\n",
      "hyper parameters: n_neighbors=8, algorithm=brute\n"
     ]
    }
   ],
   "source": [
    "# подбираем параметры для KNeighborsClassifier\n",
    "start()\n",
    "for i in range(1, 9):\n",
    "    for j in ['auto', 'ball_tree', 'kd_tree', 'brute']:\n",
    "        model = KNeighborsClassifier(n_neighbors=i, algorithm=j)\n",
    "        hyper = f'n_neighbors={i}, algorithm={j}'\n",
    "        best_metric, best_model, best_hyper = process_model(model, hyper, best_metric, best_model, best_hyper)\n",
    "finish()"
   ]
  },
  {
   "cell_type": "markdown",
   "metadata": {},
   "source": [
    "|модель|accuracy|подобранные параметры|\n",
    "|-|-|-|\n",
    "|DecisionTreeClassifier|79.81%|max_depth=4|\n",
    "|RandomForestClassifier|82.02%|max_depth=8, n_estimators=21|\n",
    "|AdaBoostClassifier|80.77%|n_estimators=32|\n",
    "|LogisticRegression|70.95%|n/a|\n",
    "|GaussianNB|79.53%|n/a|\n",
    "|KNeighborsClassifier|76.76%|n_neighbors=8, algorithm=brute|\n"
   ]
  },
  {
   "cell_type": "markdown",
   "metadata": {},
   "source": [
    "<a id='step4'></a>\n",
    "## Шаг 4. Проверка качества модели на тестовой выборке"
   ]
  },
  {
   "cell_type": "code",
   "execution_count": 205,
   "metadata": {},
   "outputs": [
    {
     "name": "stdout",
     "output_type": "stream",
     "text": [
      "<class 'sklearn.tree._classes.DecisionTreeClassifier'>\t\t\t0.7608695652173914\n",
      "<class 'sklearn.ensemble._forest.RandomForestClassifier'>\t\t\t0.7919254658385093\n",
      "<class 'sklearn.ensemble._weight_boosting.AdaBoostClassifier'>\t\t\t0.7701863354037267\n",
      "<class 'sklearn.linear_model._logistic.LogisticRegression'>\t\t\t0.6770186335403726\n",
      "<class 'sklearn.naive_bayes.GaussianNB'>\t\t\t0.7795031055900621\n",
      "<class 'sklearn.neighbors._classification.KNeighborsClassifier'>\t\t\t0.7484472049689441\n"
     ]
    }
   ],
   "source": [
    "for model in models:\n",
    "    y_pred = model.predict(x_test)\n",
    "    a = accuracy_score(y_test, y_pred)\n",
    "    print(f'{type(model)}\\t\\t\\t{a}')"
   ]
  },
  {
   "cell_type": "markdown",
   "metadata": {},
   "source": [
    "на тестовой выборке качество упало, но лидирующая модель осталась лидирующей:  \n",
    "RandomForestClassifier с качеством почти 80%"
   ]
  },
  {
   "cell_type": "markdown",
   "metadata": {},
   "source": [
    "<a id='step6'></a>\n",
    "## Шаг 5. Общие результаты и выводы"
   ]
  },
  {
   "cell_type": "markdown",
   "metadata": {},
   "source": [
    "Были проанализированы данные по поведению клиентов, выбран ряд моделей-кандидатов для построения модели предсказания перехода клиента на тариф \"Ультра\".  \n",
    "В качестве метрики для оценки качества используется accuracy - доля предсказаний, совпавших с фактом.  \n",
    "Ниже сравнение результатов работы моделей-кандитатов на валидационной и тестовых выборках:  \n",
    "|модель|accuracy на валидационной выборке|accuracy на тестовой выборке|подобранные параметры|\n",
    "|-|-|-|-|\n",
    "|DecisionTreeClassifier|79.81%|76.09%|max_depth=4|\n",
    "|RandomForestClassifier|82.02%|79.19%|max_depth=8, n_estimators=21|\n",
    "|AdaBoostClassifier|80.77%|77.02%|n_estimators=32|\n",
    "|LogisticRegression|70.95%|67.70%|n/a|\n",
    "|GaussianNB|79.53%|77.95%|n/a|\n",
    "|KNeighborsClassifier|76.76%|74.84%|n_neighbors=8, algorithm=brute|\n",
    "\n",
    "Для предсказания выбираем модель RandomForestClassifier с гипер-параметрами max_depth=8, n_estimators=21."
   ]
  },
  {
   "cell_type": "markdown",
   "metadata": {},
   "source": []
  }
 ],
 "metadata": {
  "kernelspec": {
   "display_name": "Python 3.9.10 ('.venv': venv)",
   "language": "python",
   "name": "python3"
  },
  "language_info": {
   "codemirror_mode": {
    "name": "ipython",
    "version": 3
   },
   "file_extension": ".py",
   "mimetype": "text/x-python",
   "name": "python",
   "nbconvert_exporter": "python",
   "pygments_lexer": "ipython3",
   "version": "3.9.10"
  },
  "orig_nbformat": 4,
  "vscode": {
   "interpreter": {
    "hash": "81adf5c83a32e4f553c4593aba98a2055077554018e57d57ee48360059432d6b"
   }
  }
 },
 "nbformat": 4,
 "nbformat_minor": 2
}
