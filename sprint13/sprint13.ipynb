{
 "cells": [
  {
   "attachments": {},
   "cell_type": "markdown",
   "metadata": {},
   "source": [
    "## Проект спринт 13\n",
    "**Название проекта**:  \n",
    "Хоть потоп  \n",
    "_____\n",
    "**Описание исследования**:  \n",
    "Разработка метода преобразования данных, чтобы по ним было сложно восстановить персональную информацию  \n",
    "_____\n",
    "**Цель исследования**:  \n",
    "Нужно защитить данные, чтобы при преобразовании качество моделей машинного обучения не ухудшилось.  \n",
    "_____\n",
    "**План исследования.**  \n",
    "[Шаг 1. Загрузка и подготовка данных](#step1)  \n",
    "[Шаг 2. Исследование умножения параметров на обратимую матрицу](#step2)  \n",
    "[Шаг 3. Предложение по алгоритму преобрахования данных](#step3)  \n",
    "[Шаг 4. Реализация алгоритма](#step4)  \n",
    "_____\n",
    "**Исходные данные.**\n",
    "Набор данных:  \n",
    "- [insurance.csv](insurance.csv) - исходные данные\n",
    "\n",
    "Признаки: пол, возраст и зарплата застрахованного, количество членов его семьи.\n",
    "Целевой признак: количество страховых выплат клиенту за последние 5 лет.\n"
   ]
  },
  {
   "attachments": {},
   "cell_type": "markdown",
   "metadata": {},
   "source": [
    "<a id='step1'></a>\n",
    "## Шаг 1. Загрузка и подготовка данных"
   ]
  },
  {
   "cell_type": "code",
   "execution_count": null,
   "metadata": {},
   "outputs": [],
   "source": []
  },
  {
   "attachments": {},
   "cell_type": "markdown",
   "metadata": {},
   "source": [
    "<a id='step2'></a>\n",
    "## Шаг 2. Исследование умножения параметров на обратимую матрицу\n"
   ]
  },
  {
   "cell_type": "code",
   "execution_count": null,
   "metadata": {},
   "outputs": [],
   "source": []
  },
  {
   "attachments": {},
   "cell_type": "markdown",
   "metadata": {},
   "source": [
    "<a id='step3'></a>\n",
    "## Шаг 3. Предложение по алгоритму преобрахования данных"
   ]
  },
  {
   "cell_type": "code",
   "execution_count": null,
   "metadata": {},
   "outputs": [],
   "source": []
  },
  {
   "attachments": {},
   "cell_type": "markdown",
   "metadata": {},
   "source": [
    "<a id='step4'></a>\n",
    "## Шаг 4. Реализация алгоритма"
   ]
  },
  {
   "cell_type": "code",
   "execution_count": null,
   "metadata": {},
   "outputs": [],
   "source": []
  }
 ],
 "metadata": {
  "kernelspec": {
   "display_name": ".venv",
   "language": "python",
   "name": "python3"
  },
  "language_info": {
   "codemirror_mode": {
    "name": "ipython",
    "version": 3
   },
   "file_extension": ".py",
   "mimetype": "text/x-python",
   "name": "python",
   "nbconvert_exporter": "python",
   "pygments_lexer": "ipython3",
   "version": "3.10.6"
  },
  "orig_nbformat": 4,
  "vscode": {
   "interpreter": {
    "hash": "1bb50f9eb059f0238f5f734d3a7578eb7e8cef870bc4d31d0fa40760554fe8c6"
   }
  }
 },
 "nbformat": 4,
 "nbformat_minor": 2
}
