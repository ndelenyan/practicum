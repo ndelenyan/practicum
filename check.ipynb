{
 "cells": [
  {
   "cell_type": "markdown",
   "id": "82c817d7",
   "metadata": {
    "toc": true
   },
   "source": [
    "<h1>Table of Contents<span class=\"tocSkip\"></span></h1>\n",
    "<div class=\"toc\"><ul class=\"toc-item\"></ul></div>"
   ]
  },
  {
   "cell_type": "markdown",
   "id": "0fa51641",
   "metadata": {},
   "source": [
    "## check code"
   ]
  },
  {
   "cell_type": "code",
   "execution_count": 1,
   "id": "d97cfd8c",
   "metadata": {},
   "outputs": [
    {
     "name": "stdout",
     "output_type": "stream",
     "text": [
      "3\n"
     ]
    }
   ],
   "source": [
    "import pandas as pd\n",
    "print(1+2)"
   ]
  },
  {
   "cell_type": "markdown",
   "id": "49d919db",
   "metadata": {},
   "source": [
    "*курсив*\n",
    "**жирный**\n",
    "`mono-space`\n",
    "regular"
   ]
  },
  {
   "cell_type": "code",
   "execution_count": 1,
   "id": "cf3a276d",
   "metadata": {},
   "outputs": [],
   "source": [
    "a = [[1, 2],\n",
    "      [3, 4],\n",
    "      [5, 6]]"
   ]
  },
  {
   "cell_type": "code",
   "execution_count": 2,
   "id": "4e364751",
   "metadata": {},
   "outputs": [],
   "source": [
    "import seaborn as sb"
   ]
  },
  {
   "cell_type": "code",
   "execution_count": 3,
   "id": "e5cf6ba7",
   "metadata": {},
   "outputs": [
    {
     "data": {
      "text/plain": [
       "<AxesSubplot:>"
      ]
     },
     "execution_count": 3,
     "metadata": {},
     "output_type": "execute_result"
    },
    {
     "data": {
      "image/png": "[encoded data removed]",
      "text/plain": [
       "<Figure size 640x480 with 2 Axes>"
      ]
     },
     "metadata": {},
     "output_type": "display_data"
    }
   ],
   "source": [
    "sb.heatmap(a)"
   ]
  },
  {
   "cell_type": "code",
   "execution_count": 4,
   "id": "04c3f1eb",
   "metadata": {},
   "outputs": [],
   "source": [
    "a = [[1, 2, 3], [4, 5, 6], [7, 8, 9]]"
   ]
  }
 ],
 "metadata": {
  "kernelspec": {
   "display_name": "Python 3.9.10 ('.venv': venv)",
   "language": "python",
   "name": "python3"
  },
  "language_info": {
   "codemirror_mode": {
    "name": "ipython",
    "version": 3
   },
   "file_extension": ".py",
   "mimetype": "text/x-python",
   "name": "python",
   "nbconvert_exporter": "python",
   "pygments_lexer": "ipython3",
   "version": "3.9.13"
  },
  "toc": {
   "base_numbering": 1,
   "nav_menu": {},
   "number_sections": true,
   "sideBar": true,
   "skip_h1_title": true,
   "title_cell": "Table of Contents",
   "title_sidebar": "Contents",
   "toc_cell": true,
   "toc_position": {},
   "toc_section_display": true,
   "toc_window_display": false
  },
  "vscode": {
   "interpreter": {
    "hash": "81adf5c83a32e4f553c4593aba98a2055077554018e57d57ee48360059432d6b"
   }
  }
 },
 "nbformat": 4,
 "nbformat_minor": 5
}
