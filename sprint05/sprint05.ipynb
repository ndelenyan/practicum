{
 "cells": [
  {
   "cell_type": "markdown",
   "metadata": {},
   "source": [
    "# Исследование объявлений о продаже квартир\n",
    "\n",
    "В вашем распоряжении данные сервиса Яндекс.Недвижимость — архив объявлений о продаже квартир в Санкт-Петербурге и соседних населённых пунктов за несколько лет. Нужно научиться определять рыночную стоимость объектов недвижимости. Ваша задача — установить параметры. Это позволит построить автоматизированную систему: она отследит аномалии и мошенническую деятельность. \n",
    "\n",
    "По каждой квартире на продажу доступны два вида данных. Первые вписаны пользователем, вторые — получены автоматически на основе картографических данных. Например, расстояние до центра, аэропорта, ближайшего парка и водоёма. "
   ]
  },
  {
   "cell_type": "markdown",
   "metadata": {},
   "source": [
    "### Откройте файл с данными и изучите общую информацию. "
   ]
  },
  {
   "cell_type": "code",
   "execution_count": 188,
   "metadata": {},
   "outputs": [],
   "source": [
    "import pandas as pd\n",
    "try:\n",
    "    df = pd.read_csv('sprint05\\real_estate_data.csv', sep='\\t')\n",
    "except:\n",
    "    df = pd.read_csv('https://code.s3.yandex.net/datasets/real_estate_data.csv', sep='\\t')"
   ]
  },
  {
   "cell_type": "code",
   "execution_count": 189,
   "metadata": {},
   "outputs": [
    {
     "name": "stdout",
     "output_type": "stream",
     "text": [
      "<class 'pandas.core.frame.DataFrame'>\n",
      "RangeIndex: 23699 entries, 0 to 23698\n",
      "Data columns (total 22 columns):\n",
      " #   Column                Non-Null Count  Dtype  \n",
      "---  ------                --------------  -----  \n",
      " 0   total_images          23699 non-null  int64  \n",
      " 1   last_price            23699 non-null  float64\n",
      " 2   total_area            23699 non-null  float64\n",
      " 3   first_day_exposition  23699 non-null  object \n",
      " 4   rooms                 23699 non-null  int64  \n",
      " 5   ceiling_height        14504 non-null  float64\n",
      " 6   floors_total          23613 non-null  float64\n",
      " 7   living_area           21796 non-null  float64\n",
      " 8   floor                 23699 non-null  int64  \n",
      " 9   is_apartment          2775 non-null   object \n",
      " 10  studio                23699 non-null  bool   \n",
      " 11  open_plan             23699 non-null  bool   \n",
      " 12  kitchen_area          21421 non-null  float64\n",
      " 13  balcony               12180 non-null  float64\n",
      " 14  locality_name         23650 non-null  object \n",
      " 15  airports_nearest      18157 non-null  float64\n",
      " 16  cityCenters_nearest   18180 non-null  float64\n",
      " 17  parks_around3000      18181 non-null  float64\n",
      " 18  parks_nearest         8079 non-null   float64\n",
      " 19  ponds_around3000      18181 non-null  float64\n",
      " 20  ponds_nearest         9110 non-null   float64\n",
      " 21  days_exposition       20518 non-null  float64\n",
      "dtypes: bool(2), float64(14), int64(3), object(3)\n",
      "memory usage: 3.7+ MB\n"
     ]
    }
   ],
   "source": [
    "df.info()"
   ]
  },
  {
   "cell_type": "code",
   "execution_count": 190,
   "metadata": {},
   "outputs": [
    {
     "data": {
      "text/html": [
       "<div>\n",
       "<style scoped>\n",
       "    .dataframe tbody tr th:only-of-type {\n",
       "        vertical-align: middle;\n",
       "    }\n",
       "\n",
       "    .dataframe tbody tr th {\n",
       "        vertical-align: top;\n",
       "    }\n",
       "\n",
       "    .dataframe thead th {\n",
       "        text-align: right;\n",
       "    }\n",
       "</style>\n",
       "<table border=\"1\" class=\"dataframe\">\n",
       "  <thead>\n",
       "    <tr style=\"text-align: right;\">\n",
       "      <th></th>\n",
       "      <th>total_images</th>\n",
       "      <th>last_price</th>\n",
       "      <th>total_area</th>\n",
       "      <th>first_day_exposition</th>\n",
       "      <th>rooms</th>\n",
       "      <th>ceiling_height</th>\n",
       "      <th>floors_total</th>\n",
       "      <th>living_area</th>\n",
       "      <th>floor</th>\n",
       "      <th>is_apartment</th>\n",
       "      <th>...</th>\n",
       "      <th>kitchen_area</th>\n",
       "      <th>balcony</th>\n",
       "      <th>locality_name</th>\n",
       "      <th>airports_nearest</th>\n",
       "      <th>cityCenters_nearest</th>\n",
       "      <th>parks_around3000</th>\n",
       "      <th>parks_nearest</th>\n",
       "      <th>ponds_around3000</th>\n",
       "      <th>ponds_nearest</th>\n",
       "      <th>days_exposition</th>\n",
       "    </tr>\n",
       "  </thead>\n",
       "  <tbody>\n",
       "    <tr>\n",
       "      <th>15206</th>\n",
       "      <td>14</td>\n",
       "      <td>4150000.0</td>\n",
       "      <td>35.00</td>\n",
       "      <td>2016-07-12T00:00:00</td>\n",
       "      <td>1</td>\n",
       "      <td>NaN</td>\n",
       "      <td>25.0</td>\n",
       "      <td>17.50</td>\n",
       "      <td>15</td>\n",
       "      <td>False</td>\n",
       "      <td>...</td>\n",
       "      <td>8.00</td>\n",
       "      <td>2.0</td>\n",
       "      <td>Санкт-Петербург</td>\n",
       "      <td>36784.0</td>\n",
       "      <td>11718.0</td>\n",
       "      <td>1.0</td>\n",
       "      <td>683.0</td>\n",
       "      <td>2.0</td>\n",
       "      <td>713.0</td>\n",
       "      <td>316.0</td>\n",
       "    </tr>\n",
       "    <tr>\n",
       "      <th>6366</th>\n",
       "      <td>4</td>\n",
       "      <td>3990000.0</td>\n",
       "      <td>49.72</td>\n",
       "      <td>2018-08-18T00:00:00</td>\n",
       "      <td>3</td>\n",
       "      <td>NaN</td>\n",
       "      <td>19.0</td>\n",
       "      <td>21.04</td>\n",
       "      <td>14</td>\n",
       "      <td>NaN</td>\n",
       "      <td>...</td>\n",
       "      <td>14.04</td>\n",
       "      <td>NaN</td>\n",
       "      <td>Кудрово</td>\n",
       "      <td>NaN</td>\n",
       "      <td>NaN</td>\n",
       "      <td>NaN</td>\n",
       "      <td>NaN</td>\n",
       "      <td>NaN</td>\n",
       "      <td>NaN</td>\n",
       "      <td>80.0</td>\n",
       "    </tr>\n",
       "    <tr>\n",
       "      <th>11504</th>\n",
       "      <td>7</td>\n",
       "      <td>9650000.0</td>\n",
       "      <td>104.66</td>\n",
       "      <td>2018-09-28T00:00:00</td>\n",
       "      <td>3</td>\n",
       "      <td>NaN</td>\n",
       "      <td>18.0</td>\n",
       "      <td>48.41</td>\n",
       "      <td>5</td>\n",
       "      <td>NaN</td>\n",
       "      <td>...</td>\n",
       "      <td>30.59</td>\n",
       "      <td>NaN</td>\n",
       "      <td>Санкт-Петербург</td>\n",
       "      <td>32158.0</td>\n",
       "      <td>8297.0</td>\n",
       "      <td>0.0</td>\n",
       "      <td>NaN</td>\n",
       "      <td>1.0</td>\n",
       "      <td>564.0</td>\n",
       "      <td>20.0</td>\n",
       "    </tr>\n",
       "    <tr>\n",
       "      <th>13235</th>\n",
       "      <td>5</td>\n",
       "      <td>2650000.0</td>\n",
       "      <td>60.00</td>\n",
       "      <td>2018-10-02T00:00:00</td>\n",
       "      <td>3</td>\n",
       "      <td>2.55</td>\n",
       "      <td>5.0</td>\n",
       "      <td>41.80</td>\n",
       "      <td>3</td>\n",
       "      <td>NaN</td>\n",
       "      <td>...</td>\n",
       "      <td>6.10</td>\n",
       "      <td>1.0</td>\n",
       "      <td>Приморск</td>\n",
       "      <td>NaN</td>\n",
       "      <td>NaN</td>\n",
       "      <td>NaN</td>\n",
       "      <td>NaN</td>\n",
       "      <td>NaN</td>\n",
       "      <td>NaN</td>\n",
       "      <td>NaN</td>\n",
       "    </tr>\n",
       "    <tr>\n",
       "      <th>2384</th>\n",
       "      <td>0</td>\n",
       "      <td>1300000.0</td>\n",
       "      <td>23.00</td>\n",
       "      <td>2016-08-05T00:00:00</td>\n",
       "      <td>1</td>\n",
       "      <td>2.75</td>\n",
       "      <td>19.0</td>\n",
       "      <td>15.00</td>\n",
       "      <td>2</td>\n",
       "      <td>NaN</td>\n",
       "      <td>...</td>\n",
       "      <td>NaN</td>\n",
       "      <td>0.0</td>\n",
       "      <td>Никольское</td>\n",
       "      <td>NaN</td>\n",
       "      <td>NaN</td>\n",
       "      <td>NaN</td>\n",
       "      <td>NaN</td>\n",
       "      <td>NaN</td>\n",
       "      <td>NaN</td>\n",
       "      <td>21.0</td>\n",
       "    </tr>\n",
       "    <tr>\n",
       "      <th>23581</th>\n",
       "      <td>18</td>\n",
       "      <td>6300000.0</td>\n",
       "      <td>54.10</td>\n",
       "      <td>2018-08-02T00:00:00</td>\n",
       "      <td>2</td>\n",
       "      <td>2.60</td>\n",
       "      <td>25.0</td>\n",
       "      <td>32.70</td>\n",
       "      <td>2</td>\n",
       "      <td>NaN</td>\n",
       "      <td>...</td>\n",
       "      <td>9.80</td>\n",
       "      <td>NaN</td>\n",
       "      <td>Санкт-Петербург</td>\n",
       "      <td>36784.0</td>\n",
       "      <td>11718.0</td>\n",
       "      <td>1.0</td>\n",
       "      <td>683.0</td>\n",
       "      <td>2.0</td>\n",
       "      <td>713.0</td>\n",
       "      <td>79.0</td>\n",
       "    </tr>\n",
       "    <tr>\n",
       "      <th>17668</th>\n",
       "      <td>5</td>\n",
       "      <td>7800000.0</td>\n",
       "      <td>74.20</td>\n",
       "      <td>2018-11-26T00:00:00</td>\n",
       "      <td>3</td>\n",
       "      <td>2.60</td>\n",
       "      <td>16.0</td>\n",
       "      <td>45.00</td>\n",
       "      <td>3</td>\n",
       "      <td>NaN</td>\n",
       "      <td>...</td>\n",
       "      <td>10.00</td>\n",
       "      <td>NaN</td>\n",
       "      <td>Санкт-Петербург</td>\n",
       "      <td>50035.0</td>\n",
       "      <td>15363.0</td>\n",
       "      <td>0.0</td>\n",
       "      <td>NaN</td>\n",
       "      <td>0.0</td>\n",
       "      <td>NaN</td>\n",
       "      <td>91.0</td>\n",
       "    </tr>\n",
       "    <tr>\n",
       "      <th>11148</th>\n",
       "      <td>12</td>\n",
       "      <td>8000000.0</td>\n",
       "      <td>100.00</td>\n",
       "      <td>2018-07-09T00:00:00</td>\n",
       "      <td>4</td>\n",
       "      <td>2.70</td>\n",
       "      <td>7.0</td>\n",
       "      <td>53.90</td>\n",
       "      <td>1</td>\n",
       "      <td>NaN</td>\n",
       "      <td>...</td>\n",
       "      <td>28.10</td>\n",
       "      <td>NaN</td>\n",
       "      <td>Всеволожск</td>\n",
       "      <td>NaN</td>\n",
       "      <td>NaN</td>\n",
       "      <td>NaN</td>\n",
       "      <td>NaN</td>\n",
       "      <td>NaN</td>\n",
       "      <td>NaN</td>\n",
       "      <td>NaN</td>\n",
       "    </tr>\n",
       "    <tr>\n",
       "      <th>21722</th>\n",
       "      <td>9</td>\n",
       "      <td>4550000.0</td>\n",
       "      <td>66.70</td>\n",
       "      <td>2019-04-12T00:00:00</td>\n",
       "      <td>3</td>\n",
       "      <td>NaN</td>\n",
       "      <td>5.0</td>\n",
       "      <td>42.10</td>\n",
       "      <td>4</td>\n",
       "      <td>NaN</td>\n",
       "      <td>...</td>\n",
       "      <td>NaN</td>\n",
       "      <td>NaN</td>\n",
       "      <td>посёлок Бугры</td>\n",
       "      <td>NaN</td>\n",
       "      <td>NaN</td>\n",
       "      <td>NaN</td>\n",
       "      <td>NaN</td>\n",
       "      <td>NaN</td>\n",
       "      <td>NaN</td>\n",
       "      <td>NaN</td>\n",
       "    </tr>\n",
       "    <tr>\n",
       "      <th>3481</th>\n",
       "      <td>10</td>\n",
       "      <td>3450000.0</td>\n",
       "      <td>46.00</td>\n",
       "      <td>2019-04-11T00:00:00</td>\n",
       "      <td>1</td>\n",
       "      <td>2.80</td>\n",
       "      <td>16.0</td>\n",
       "      <td>20.00</td>\n",
       "      <td>2</td>\n",
       "      <td>NaN</td>\n",
       "      <td>...</td>\n",
       "      <td>11.00</td>\n",
       "      <td>2.0</td>\n",
       "      <td>Всеволожск</td>\n",
       "      <td>NaN</td>\n",
       "      <td>NaN</td>\n",
       "      <td>NaN</td>\n",
       "      <td>NaN</td>\n",
       "      <td>NaN</td>\n",
       "      <td>NaN</td>\n",
       "      <td>NaN</td>\n",
       "    </tr>\n",
       "  </tbody>\n",
       "</table>\n",
       "<p>10 rows × 22 columns</p>\n",
       "</div>"
      ],
      "text/plain": [
       "       total_images  last_price  total_area first_day_exposition  rooms  \\\n",
       "15206            14   4150000.0       35.00  2016-07-12T00:00:00      1   \n",
       "6366              4   3990000.0       49.72  2018-08-18T00:00:00      3   \n",
       "11504             7   9650000.0      104.66  2018-09-28T00:00:00      3   \n",
       "13235             5   2650000.0       60.00  2018-10-02T00:00:00      3   \n",
       "2384              0   1300000.0       23.00  2016-08-05T00:00:00      1   \n",
       "23581            18   6300000.0       54.10  2018-08-02T00:00:00      2   \n",
       "17668             5   7800000.0       74.20  2018-11-26T00:00:00      3   \n",
       "11148            12   8000000.0      100.00  2018-07-09T00:00:00      4   \n",
       "21722             9   4550000.0       66.70  2019-04-12T00:00:00      3   \n",
       "3481             10   3450000.0       46.00  2019-04-11T00:00:00      1   \n",
       "\n",
       "       ceiling_height  floors_total  living_area  floor is_apartment  ...  \\\n",
       "15206             NaN          25.0        17.50     15        False  ...   \n",
       "6366              NaN          19.0        21.04     14          NaN  ...   \n",
       "11504             NaN          18.0        48.41      5          NaN  ...   \n",
       "13235            2.55           5.0        41.80      3          NaN  ...   \n",
       "2384             2.75          19.0        15.00      2          NaN  ...   \n",
       "23581            2.60          25.0        32.70      2          NaN  ...   \n",
       "17668            2.60          16.0        45.00      3          NaN  ...   \n",
       "11148            2.70           7.0        53.90      1          NaN  ...   \n",
       "21722             NaN           5.0        42.10      4          NaN  ...   \n",
       "3481             2.80          16.0        20.00      2          NaN  ...   \n",
       "\n",
       "       kitchen_area  balcony    locality_name  airports_nearest  \\\n",
       "15206          8.00      2.0  Санкт-Петербург           36784.0   \n",
       "6366          14.04      NaN          Кудрово               NaN   \n",
       "11504         30.59      NaN  Санкт-Петербург           32158.0   \n",
       "13235          6.10      1.0         Приморск               NaN   \n",
       "2384            NaN      0.0       Никольское               NaN   \n",
       "23581          9.80      NaN  Санкт-Петербург           36784.0   \n",
       "17668         10.00      NaN  Санкт-Петербург           50035.0   \n",
       "11148         28.10      NaN       Всеволожск               NaN   \n",
       "21722           NaN      NaN    посёлок Бугры               NaN   \n",
       "3481          11.00      2.0       Всеволожск               NaN   \n",
       "\n",
       "      cityCenters_nearest  parks_around3000  parks_nearest  ponds_around3000  \\\n",
       "15206             11718.0               1.0          683.0               2.0   \n",
       "6366                  NaN               NaN            NaN               NaN   \n",
       "11504              8297.0               0.0            NaN               1.0   \n",
       "13235                 NaN               NaN            NaN               NaN   \n",
       "2384                  NaN               NaN            NaN               NaN   \n",
       "23581             11718.0               1.0          683.0               2.0   \n",
       "17668             15363.0               0.0            NaN               0.0   \n",
       "11148                 NaN               NaN            NaN               NaN   \n",
       "21722                 NaN               NaN            NaN               NaN   \n",
       "3481                  NaN               NaN            NaN               NaN   \n",
       "\n",
       "       ponds_nearest  days_exposition  \n",
       "15206          713.0            316.0  \n",
       "6366             NaN             80.0  \n",
       "11504          564.0             20.0  \n",
       "13235            NaN              NaN  \n",
       "2384             NaN             21.0  \n",
       "23581          713.0             79.0  \n",
       "17668            NaN             91.0  \n",
       "11148            NaN              NaN  \n",
       "21722            NaN              NaN  \n",
       "3481             NaN              NaN  \n",
       "\n",
       "[10 rows x 22 columns]"
      ]
     },
     "execution_count": 190,
     "metadata": {},
     "output_type": "execute_result"
    }
   ],
   "source": [
    "df.sample(10)"
   ]
  },
  {
   "cell_type": "code",
   "execution_count": 191,
   "metadata": {},
   "outputs": [
    {
     "data": {
      "text/plain": [
       "array([[<AxesSubplot:title={'center':'total_images'}>,\n",
       "        <AxesSubplot:title={'center':'last_price'}>,\n",
       "        <AxesSubplot:title={'center':'total_area'}>,\n",
       "        <AxesSubplot:title={'center':'rooms'}>],\n",
       "       [<AxesSubplot:title={'center':'ceiling_height'}>,\n",
       "        <AxesSubplot:title={'center':'floors_total'}>,\n",
       "        <AxesSubplot:title={'center':'living_area'}>,\n",
       "        <AxesSubplot:title={'center':'floor'}>],\n",
       "       [<AxesSubplot:title={'center':'kitchen_area'}>,\n",
       "        <AxesSubplot:title={'center':'balcony'}>,\n",
       "        <AxesSubplot:title={'center':'airports_nearest'}>,\n",
       "        <AxesSubplot:title={'center':'cityCenters_nearest'}>],\n",
       "       [<AxesSubplot:title={'center':'parks_around3000'}>,\n",
       "        <AxesSubplot:title={'center':'parks_nearest'}>,\n",
       "        <AxesSubplot:title={'center':'ponds_around3000'}>,\n",
       "        <AxesSubplot:title={'center':'ponds_nearest'}>],\n",
       "       [<AxesSubplot:title={'center':'days_exposition'}>, <AxesSubplot:>,\n",
       "        <AxesSubplot:>, <AxesSubplot:>]], dtype=object)"
      ]
     },
     "execution_count": 191,
     "metadata": {},
     "output_type": "execute_result"
    },
    {
     "data": {
      "image/png": "[encoded data removed]",
      "text/plain": [
       "<Figure size 1200x1200 with 20 Axes>"
      ]
     },
     "metadata": {},
     "output_type": "display_data"
    }
   ],
   "source": [
    "df.hist(figsize=(12, 12))"
   ]
  },
  {
   "cell_type": "markdown",
   "metadata": {},
   "source": [
    "### Предобработка данных"
   ]
  },
  {
   "cell_type": "code",
   "execution_count": 192,
   "metadata": {},
   "outputs": [
    {
     "data": {
      "text/plain": [
       "total_images                0\n",
       "last_price                  0\n",
       "total_area                  0\n",
       "first_day_exposition        0\n",
       "rooms                       0\n",
       "ceiling_height           9195\n",
       "floors_total               86\n",
       "living_area              1903\n",
       "floor                       0\n",
       "is_apartment            20924\n",
       "studio                      0\n",
       "open_plan                   0\n",
       "kitchen_area             2278\n",
       "balcony                 11519\n",
       "locality_name              49\n",
       "airports_nearest         5542\n",
       "cityCenters_nearest      5519\n",
       "parks_around3000         5518\n",
       "parks_nearest           15620\n",
       "ponds_around3000         5518\n",
       "ponds_nearest           14589\n",
       "days_exposition          3181\n",
       "dtype: int64"
      ]
     },
     "execution_count": 192,
     "metadata": {},
     "output_type": "execute_result"
    }
   ],
   "source": [
    "df.isna().sum()"
   ]
  },
  {
   "cell_type": "markdown",
   "metadata": {},
   "source": [
    "пропущенные значения в колонке '*balcony*' заполним нулями: вполне вероятно, значение пропущено потому что балкона нет"
   ]
  },
  {
   "cell_type": "code",
   "execution_count": 193,
   "metadata": {},
   "outputs": [],
   "source": [
    "df.loc[df.balcony.isna(),'balcony'] = 0"
   ]
  },
  {
   "cell_type": "markdown",
   "metadata": {},
   "source": [
    "посмотрим, можно ли установить какие-нибудь связи между '*ponds_around3000*' и '*ponds_nearest*' и то же самое '*parks*'.  \n",
    "В переменных '*nearest*' пропущено гораздо больше значений, чем в '*around3000*'. попробуем узнать, можно ли по значениям в '*around3000*' как-то восстановить '*nearest*'"
   ]
  },
  {
   "cell_type": "code",
   "execution_count": 194,
   "metadata": {},
   "outputs": [],
   "source": [
    "from IPython.core.interactiveshell import InteractiveShell\n",
    "InteractiveShell.ast_node_interactivity = 'all'"
   ]
  },
  {
   "cell_type": "code",
   "execution_count": 195,
   "metadata": {},
   "outputs": [
    {
     "data": {
      "text/plain": [
       "array([nan])"
      ]
     },
     "execution_count": 195,
     "metadata": {},
     "output_type": "execute_result"
    },
    {
     "data": {
      "text/plain": [
       "array([nan])"
      ]
     },
     "execution_count": 195,
     "metadata": {},
     "output_type": "execute_result"
    },
    {
     "data": {
      "text/plain": [
       "array([ 0., nan])"
      ]
     },
     "execution_count": 195,
     "metadata": {},
     "output_type": "execute_result"
    },
    {
     "data": {
      "text/plain": [
       "array([ 0., nan])"
      ]
     },
     "execution_count": 195,
     "metadata": {},
     "output_type": "execute_result"
    },
    {
     "data": {
      "text/plain": [
       "array([4.820e+02,       nan, 9.000e+01, 8.400e+01, 1.120e+02, 3.100e+02,\n",
       "       2.940e+02, 5.900e+02, 4.200e+02, 7.590e+02, 2.480e+02, 5.170e+02,\n",
       "       4.110e+02, 4.520e+02, 5.320e+02, 4.590e+02, 7.250e+02, 4.700e+01,\n",
       "       6.200e+02, 6.750e+02, 5.310e+02, 5.260e+02, 2.710e+02, 3.630e+02,\n",
       "       6.480e+02, 3.820e+02, 3.340e+02, 1.670e+02, 4.450e+02, 2.310e+02,\n",
       "       5.110e+02, 7.510e+02, 6.660e+02, 3.840e+02, 1.270e+02, 2.410e+02,\n",
       "       4.880e+02, 1.560e+02, 5.760e+02, 2.850e+02, 6.330e+02, 1.500e+01,\n",
       "       2.150e+02, 5.330e+02, 1.410e+02, 3.660e+02, 3.410e+02, 5.890e+02,\n",
       "       3.440e+02, 5.080e+02, 4.170e+02, 7.620e+02, 4.410e+02, 5.590e+02,\n",
       "       7.490e+02, 1.230e+02, 5.010e+02, 1.000e+01, 1.133e+03, 1.205e+03,\n",
       "       5.160e+02, 8.600e+02, 2.760e+02, 9.800e+02, 4.630e+02, 5.910e+02,\n",
       "       2.390e+02, 6.510e+02, 1.021e+03, 4.850e+02, 5.860e+02, 3.700e+02,\n",
       "       6.880e+02, 2.750e+02, 5.460e+02, 4.660e+02, 1.390e+02, 2.510e+02,\n",
       "       5.370e+02, 6.270e+02, 1.040e+02, 4.500e+02, 6.570e+02, 5.780e+02,\n",
       "       7.700e+01, 1.210e+02, 3.140e+02, 1.950e+02, 5.560e+02, 4.690e+02,\n",
       "       7.500e+01, 3.980e+02, 6.810e+02, 5.000e+01, 9.200e+01, 9.290e+02,\n",
       "       3.200e+02, 5.100e+02, 7.410e+02, 3.570e+02, 2.295e+03, 6.340e+02,\n",
       "       3.770e+02, 6.110e+02, 3.490e+02, 4.510e+02, 6.410e+02, 3.740e+02,\n",
       "       8.350e+02, 9.300e+01, 5.130e+02, 3.010e+02, 1.620e+02, 1.510e+03,\n",
       "       5.190e+02, 3.600e+01, 5.570e+02, 4.210e+02, 1.060e+02, 5.400e+02,\n",
       "       6.300e+02, 3.850e+02, 4.710e+02, 3.250e+02, 8.030e+02, 4.010e+02,\n",
       "       1.850e+02, 7.830e+02, 3.920e+02, 4.680e+02, 1.820e+02, 2.870e+02,\n",
       "       3.090e+02, 5.050e+02, 1.870e+02, 4.530e+02, 3.880e+02, 6.350e+02,\n",
       "       6.530e+02, 2.900e+02, 5.380e+02, 2.260e+02, 7.980e+02, 6.800e+02,\n",
       "       4.160e+02, 4.120e+02, 1.380e+02, 6.370e+02, 8.160e+02, 7.020e+02,\n",
       "       6.060e+02, 1.520e+02, 2.102e+03, 4.600e+02, 5.960e+02, 6.040e+02,\n",
       "       3.280e+02, 6.760e+02, 5.340e+02, 5.580e+02, 4.720e+02, 1.443e+03,\n",
       "       1.590e+02, 1.900e+01, 5.300e+01, 2.070e+02, 4.980e+02, 5.200e+02,\n",
       "       6.450e+02, 1.610e+02, 7.690e+02, 5.800e+02, 3.780e+02, 4.940e+02,\n",
       "       7.140e+02, 4.640e+02, 4.460e+02, 2.200e+02, 8.020e+02, 2.880e+02,\n",
       "       5.150e+02, 6.010e+02, 1.920e+02, 4.560e+02, 1.700e+02, 6.320e+02,\n",
       "       5.870e+02, 6.430e+02, 9.090e+02, 2.910e+02, 6.870e+02, 7.840e+02,\n",
       "       5.060e+02, 4.350e+02, 4.830e+02, 5.200e+01, 1.750e+02, 4.610e+02,\n",
       "       2.330e+02, 2.137e+03, 2.010e+02, 5.630e+02, 9.680e+02, 2.380e+02,\n",
       "       4.760e+02, 1.300e+01, 3.670e+02, 7.350e+02, 1.770e+02, 2.920e+02,\n",
       "       4.700e+02, 5.700e+01, 3.930e+02, 4.960e+02, 1.496e+03, 1.570e+02,\n",
       "       4.390e+02, 7.070e+02, 2.890e+02, 5.990e+02, 9.370e+02, 5.500e+02,\n",
       "       3.990e+02, 3.370e+02, 1.188e+03, 6.100e+01, 2.650e+02, 1.810e+02,\n",
       "       5.360e+02, 2.950e+02, 2.590e+02, 5.210e+02, 2.630e+02, 2.360e+02,\n",
       "       3.910e+02, 4.330e+02, 2.430e+02, 3.680e+02, 4.810e+02, 4.030e+02,\n",
       "       4.250e+02, 7.560e+02, 7.120e+02, 1.940e+02, 2.580e+02, 4.910e+02,\n",
       "       1.470e+02, 6.720e+02, 7.370e+02, 7.000e+02, 3.260e+02, 6.800e+01,\n",
       "       3.360e+02, 5.410e+02, 8.700e+01, 8.230e+02, 5.720e+02, 2.340e+02,\n",
       "       2.245e+03, 4.920e+02, 2.110e+02, 2.700e+01, 2.520e+02, 3.300e+02,\n",
       "       4.200e+01, 6.960e+02, 3.430e+02, 1.960e+02, 2.500e+02, 1.730e+02,\n",
       "       5.920e+02, 4.580e+02, 6.900e+02, 4.970e+02, 1.731e+03, 3.060e+02,\n",
       "       8.420e+02, 1.510e+02, 6.550e+02, 5.070e+02, 4.430e+02, 5.680e+02,\n",
       "       2.270e+02, 6.260e+02, 1.100e+02, 6.500e+02, 8.050e+02, 6.460e+02,\n",
       "       3.020e+02, 3.040e+02, 6.580e+02, 3.180e+02, 2.780e+02, 2.470e+02,\n",
       "       9.340e+02, 2.180e+02, 1.600e+02, 5.420e+02, 7.210e+02, 6.680e+02,\n",
       "       4.570e+02, 3.860e+02, 2.610e+02, 4.140e+02, 2.840e+02, 8.430e+02,\n",
       "       1.440e+02, 1.830e+02, 5.970e+02, 7.900e+02, 6.090e+02, 9.510e+02,\n",
       "       2.100e+02, 1.530e+02, 2.170e+02, 7.100e+02, 1.065e+03, 1.740e+02,\n",
       "       3.500e+01, 4.400e+02, 3.810e+02, 1.100e+01, 8.110e+02, 6.830e+02,\n",
       "       3.350e+02, 1.630e+02, 3.650e+02, 9.200e+02, 6.240e+02, 4.780e+02,\n",
       "       8.500e+02, 5.240e+02, 5.540e+02, 1.550e+02, 8.980e+02, 3.800e+02,\n",
       "       7.150e+02, 2.790e+02, 3.310e+02, 7.390e+02, 1.370e+02, 6.910e+02,\n",
       "       5.100e+01, 5.810e+02, 5.700e+02, 6.440e+02, 2.400e+02, 1.490e+02,\n",
       "       3.640e+02, 1.756e+03, 2.130e+02, 6.380e+02, 1.103e+03, 2.460e+02,\n",
       "       7.600e+01, 1.114e+03, 1.600e+01, 1.790e+02, 5.690e+02, 5.470e+02,\n",
       "       5.520e+02, 9.420e+02, 1.340e+02, 7.380e+02, 7.820e+02, 6.500e+01,\n",
       "       3.890e+02, 4.620e+02, 3.580e+02, 1.780e+02, 6.920e+02, 9.330e+02,\n",
       "       6.820e+02, 6.770e+02, 6.390e+02, 2.000e+01, 1.145e+03, 6.520e+02,\n",
       "       5.350e+02, 6.740e+02, 5.290e+02, 3.540e+02, 4.890e+02, 3.064e+03,\n",
       "       4.470e+02, 5.090e+02, 5.280e+02, 8.300e+02, 1.660e+02, 6.710e+02,\n",
       "       8.700e+02, 6.310e+02, 4.800e+02, 4.070e+02, 3.150e+02, 7.800e+01,\n",
       "       5.740e+02, 9.450e+02, 8.080e+02, 1.080e+02, 3.110e+02, 4.740e+02,\n",
       "       1.514e+03, 3.120e+02, 4.320e+02, 2.570e+02, 9.270e+02, 3.800e+01,\n",
       "       2.230e+02, 8.310e+02, 2.700e+02, 2.665e+03, 2.090e+02, 9.100e+01,\n",
       "       4.480e+02, 6.600e+02, 1.360e+02, 2.060e+02, 1.640e+02, 4.930e+02,\n",
       "       4.420e+02, 7.330e+02, 2.888e+03, 2.300e+02, 3.330e+02, 3.760e+02,\n",
       "       5.650e+02, 9.810e+02, 1.980e+02, 5.600e+02, 5.770e+02, 3.420e+02,\n",
       "       5.610e+02, 2.420e+02, 2.276e+03, 3.590e+02, 1.264e+03, 5.250e+02,\n",
       "       5.450e+02, 2.990e+02, 9.790e+02, 2.930e+02, 3.320e+02, 7.200e+01,\n",
       "       2.450e+02, 4.090e+02, 1.477e+03, 1.140e+02, 5.800e+01, 5.530e+02,\n",
       "       5.880e+02, 3.700e+01, 3.940e+02, 3.600e+02, 5.550e+02, 4.870e+02,\n",
       "       6.190e+02, 7.400e+01, 3.730e+02, 6.210e+02, 2.080e+02, 7.040e+02,\n",
       "       4.990e+02, 5.620e+02, 4.080e+02, 6.170e+02, 1.342e+03, 4.220e+02,\n",
       "       2.560e+02, 5.230e+02, 2.467e+03, 4.550e+02, 6.840e+02, 1.320e+02,\n",
       "       6.030e+02, 6.970e+02, 4.260e+02, 3.900e+02, 2.000e+02, 4.340e+02,\n",
       "       5.480e+02, 5.940e+02, 5.040e+02, 4.100e+01, 1.050e+02, 5.430e+02,\n",
       "       5.440e+02, 8.260e+02, 3.000e+01, 5.020e+02, 7.530e+02, 8.930e+02,\n",
       "       3.870e+02, 1.930e+02, 8.010e+02, 9.400e+01, 6.250e+02, 7.060e+02,\n",
       "       6.360e+02, 3.460e+02, 7.190e+02, 7.170e+02, 2.290e+02, 4.770e+02,\n",
       "       7.320e+02, 6.670e+02, 4.840e+02, 5.300e+02, 8.880e+02, 9.380e+02,\n",
       "       2.348e+03, 3.030e+02, 9.650e+02, 5.140e+02, 5.900e+01, 5.220e+02,\n",
       "       9.000e+00, 6.790e+02, 2.209e+03, 1.880e+02, 6.950e+02, 9.610e+02,\n",
       "       1.304e+03, 3.270e+02, 1.028e+03, 3.790e+02, 7.660e+02, 1.097e+03,\n",
       "       8.900e+02, 4.150e+02, 2.860e+02, 3.560e+02, 8.670e+02, 7.910e+02,\n",
       "       1.300e+02, 8.800e+01, 2.905e+03, 3.070e+02, 6.690e+02, 3.710e+02,\n",
       "       5.030e+02, 4.440e+02, 1.424e+03, 5.660e+02, 1.007e+03, 5.930e+02,\n",
       "       1.362e+03, 3.610e+02, 1.499e+03, 9.600e+01, 1.480e+02, 1.260e+02,\n",
       "       1.690e+02, 6.600e+01, 9.040e+02, 1.272e+03, 6.490e+02, 7.960e+02,\n",
       "       3.900e+01, 1.767e+03, 7.420e+02, 3.620e+02, 2.820e+02, 9.170e+02,\n",
       "       5.510e+02, 5.120e+02, 4.900e+01, 3.230e+02, 2.300e+01, 2.160e+02,\n",
       "       7.800e+02, 6.160e+02, 6.400e+02, 4.240e+02, 1.077e+03, 1.049e+03,\n",
       "       6.980e+02, 3.500e+02, 4.790e+02, 7.870e+02, 1.586e+03, 3.190e+02,\n",
       "       8.290e+02, 2.800e+02, 4.900e+02, 6.000e+02, 4.230e+02, 6.620e+02,\n",
       "       9.160e+02, 2.810e+02, 7.780e+02, 2.690e+02, 1.350e+02, 4.950e+02,\n",
       "       8.790e+02, 1.416e+03, 2.280e+02, 4.130e+02, 7.630e+02, 2.030e+02,\n",
       "       7.310e+02, 4.370e+02, 5.850e+02, 3.400e+02, 1.213e+03, 6.020e+02,\n",
       "       7.890e+02, 8.860e+02, 7.240e+02, 9.700e+01, 7.010e+02, 2.220e+02,\n",
       "       3.000e+02, 4.600e+01, 4.270e+02, 4.280e+02, 2.660e+02, 4.310e+02,\n",
       "       2.100e+01, 3.970e+02, 6.280e+02, 3.050e+02, 2.120e+02, 6.220e+02,\n",
       "       1.700e+01, 2.550e+02, 1.910e+02, 2.066e+03, 1.650e+02, 3.550e+02,\n",
       "       1.280e+02, 3.830e+02, 2.320e+02, 5.180e+02, 4.000e+02, 7.610e+02,\n",
       "       3.220e+02, 8.560e+02, 1.200e+03, 3.520e+02, 2.847e+03, 6.730e+02,\n",
       "       6.860e+02, 9.630e+02, 5.390e+02, 1.420e+02, 1.860e+02, 4.040e+02,\n",
       "       1.802e+03, 2.620e+02, 6.230e+02, 8.500e+01, 2.240e+02, 8.270e+02,\n",
       "       7.090e+02, 4.360e+02, 4.060e+02, 7.360e+02, 4.730e+02, 9.150e+02,\n",
       "       3.290e+02, 5.750e+02, 4.500e+01, 1.181e+03, 6.140e+02, 2.600e+02,\n",
       "       2.409e+03, 8.170e+02, 9.970e+02, 5.790e+02, 2.830e+02, 1.186e+03,\n",
       "       1.596e+03, 8.100e+01, 1.800e+01, 6.940e+02, 3.480e+02, 3.530e+02,\n",
       "       1.020e+02, 1.720e+02, 5.830e+02, 1.290e+02, 2.530e+02, 7.110e+02,\n",
       "       1.190e+03, 4.650e+02, 5.490e+02, 6.100e+02, 8.140e+02, 7.160e+02,\n",
       "       2.770e+02, 8.340e+02, 1.326e+03, 1.240e+02, 3.170e+02, 9.360e+02,\n",
       "       3.390e+02, 8.120e+02, 4.490e+02, 4.190e+02, 3.450e+02, 1.170e+02,\n",
       "       1.840e+02, 9.500e+01, 2.960e+02, 1.580e+02, 7.440e+02, 6.050e+02,\n",
       "       1.228e+03, 5.950e+02, 9.060e+02, 8.090e+02, 5.270e+02, 7.650e+02,\n",
       "       5.600e+01, 6.420e+02, 6.300e+01, 2.416e+03, 8.300e+01, 9.730e+02,\n",
       "       2.670e+02, 2.350e+02, 6.850e+02, 1.970e+02, 6.130e+02, 5.640e+02,\n",
       "       6.180e+02, 3.080e+02, 2.640e+02, 1.199e+03, 1.008e+03, 8.460e+02,\n",
       "       1.074e+03, 1.990e+02, 6.700e+01, 2.400e+01, 7.670e+02, 1.069e+03,\n",
       "       8.200e+01, 3.300e+01, 3.130e+02, 4.670e+02, 1.053e+03, 7.030e+02,\n",
       "       2.740e+02, 6.700e+02, 1.710e+02, 1.010e+02, 6.630e+02, 1.942e+03,\n",
       "       8.000e+02, 6.120e+02, 9.560e+02, 7.640e+02, 2.200e+01, 4.180e+02,\n",
       "       1.130e+02, 4.300e+02, 1.256e+03, 4.860e+02, 6.150e+02, 1.722e+03,\n",
       "       8.620e+02, 6.200e+01, 6.890e+02, 4.290e+02, 3.160e+02, 1.648e+03,\n",
       "       5.000e+02, 2.711e+03, 2.540e+02, 3.720e+02, 1.951e+03, 5.840e+02,\n",
       "       4.020e+02, 7.280e+02, 3.750e+02, 7.290e+02, 6.070e+02, 8.520e+02,\n",
       "       7.180e+02, 2.020e+02, 2.970e+02, 1.760e+02, 1.040e+03, 4.750e+02,\n",
       "       7.050e+02, 3.950e+02, 2.980e+02, 4.100e+02, 4.000e+01, 1.098e+03,\n",
       "       2.633e+03, 1.354e+03, 3.240e+02, 8.060e+02, 6.650e+02, 4.300e+01,\n",
       "       9.190e+02, 6.540e+02, 1.500e+02, 9.660e+02, 3.380e+02, 1.310e+02,\n",
       "       9.210e+02, 7.460e+02, 6.990e+02, 7.540e+02, 7.860e+02, 1.909e+03,\n",
       "       6.290e+02, 1.248e+03, 2.720e+02, 2.747e+03, 7.230e+02, 9.740e+02,\n",
       "       2.040e+02, 7.920e+02, 4.400e+01, 1.680e+02, 1.562e+03, 8.410e+02,\n",
       "       6.080e+02, 9.430e+02, 1.022e+03, 2.250e+02, 2.490e+02, 2.880e+03,\n",
       "       1.160e+02, 5.710e+02, 5.500e+01, 8.680e+02, 3.960e+02, 1.540e+02,\n",
       "       1.180e+02, 1.481e+03, 5.980e+02, 9.520e+02, 8.200e+02, 1.090e+02,\n",
       "       2.218e+03, 1.150e+02, 2.440e+02, 7.100e+01, 2.210e+02, 8.730e+02,\n",
       "       8.690e+02, 2.050e+02, 3.400e+01, 6.900e+01, 8.590e+02, 9.670e+02,\n",
       "       1.150e+03, 5.400e+01, 6.400e+01, 3.510e+02, 7.000e+00, 1.400e+02,\n",
       "       1.086e+03, 1.460e+02, 1.299e+03, 1.501e+03, 6.610e+02, 2.026e+03,\n",
       "       9.130e+02, 5.670e+02, 2.730e+02, 8.040e+02, 7.750e+02, 1.200e+02,\n",
       "       3.470e+02, 8.580e+02, 1.330e+02, 1.030e+02, 4.540e+02, 1.000e+02,\n",
       "       8.280e+02, 4.050e+02, 4.800e+01, 7.220e+02, 1.887e+03, 1.809e+03,\n",
       "       3.690e+02, 8.870e+02, 8.390e+02, 7.270e+02, 1.120e+03, 7.700e+02,\n",
       "       1.900e+02, 1.250e+02, 1.057e+03, 8.610e+02, 3.190e+03, 9.320e+02,\n",
       "       7.400e+02, 8.480e+02, 1.191e+03, 2.131e+03, 8.750e+02, 7.710e+02,\n",
       "       1.041e+03, 3.210e+02, 6.930e+02, 8.600e+01, 2.370e+02, 1.215e+03,\n",
       "       7.970e+02, 3.000e+00, 9.030e+02, 1.790e+03, 1.094e+03, 7.480e+02,\n",
       "       6.560e+02, 7.680e+02, 6.590e+02, 8.320e+02, 9.900e+01, 1.220e+02,\n",
       "       1.800e+02, 5.820e+02, 1.620e+03, 2.800e+01, 7.260e+02, 1.364e+03,\n",
       "       6.000e+01, 7.550e+02, 7.300e+02, 9.410e+02, 1.190e+02, 1.200e+01,\n",
       "       7.300e+01, 1.070e+02, 1.211e+03, 1.270e+03, 9.930e+02, 1.400e+03,\n",
       "       1.000e+00, 9.800e+01, 7.080e+02, 8.890e+02, 7.580e+02, 1.450e+02,\n",
       "       7.450e+02, 8.660e+02, 1.568e+03, 1.079e+03, 8.630e+02, 1.400e+01,\n",
       "       4.380e+02, 1.148e+03, 1.061e+03, 7.930e+02, 8.850e+02, 2.489e+03,\n",
       "       5.730e+02, 7.990e+02, 1.361e+03, 6.780e+02, 7.790e+02, 1.423e+03,\n",
       "       1.064e+03, 1.564e+03, 2.555e+03, 2.427e+03, 9.690e+02, 7.130e+02,\n",
       "       2.532e+03, 1.011e+03, 1.890e+02, 8.530e+02, 3.013e+03, 1.312e+03,\n",
       "       2.190e+02, 8.450e+02, 6.470e+02, 7.940e+02, 1.329e+03, 8.220e+02,\n",
       "       1.262e+03, 1.073e+03, 1.798e+03, 9.850e+02, 1.657e+03, 7.880e+02,\n",
       "       6.640e+02, 3.200e+01, 7.570e+02, 2.680e+02, 8.000e+01, 2.768e+03,\n",
       "       2.009e+03, 8.470e+02, 7.600e+02, 1.167e+03, 4.000e+00, 2.984e+03])"
      ]
     },
     "execution_count": 195,
     "metadata": {},
     "output_type": "execute_result"
    },
    {
     "data": {
      "text/plain": [
       "array([ 755.,   nan,  574., ...,  959.,   40., 1134.])"
      ]
     },
     "execution_count": 195,
     "metadata": {},
     "output_type": "execute_result"
    }
   ],
   "source": [
    "\n",
    "df[df.parks_around3000.isna()]['parks_nearest'].unique()\n",
    "df[df.ponds_around3000.isna()]['ponds_nearest'].unique()\n",
    "df[df.parks_nearest.isna()]['parks_around3000'].unique()\n",
    "df[df.ponds_nearest.isna()]['ponds_around3000'].unique()\n",
    "df.parks_nearest.unique()\n",
    "df.ponds_nearest.unique()\n"
   ]
  },
  {
   "cell_type": "markdown",
   "metadata": {},
   "source": [
    "ничего не удалось выяснить. заполним значениями по умолчанию: '*ponds_around3000*' и '*parks_around3000*' заменим NaN на 0 (считаем, что если не указано, значит, поблизости просто нет парка/пруда). '*parks_nearest*' и '*ponds_nearest*' оставим NaN.  \n",
    "Можно было бы также Поставить *PositiveInfinity*, но такие значения плохо повлияли бы на расчеты"
   ]
  },
  {
   "cell_type": "code",
   "execution_count": 196,
   "metadata": {},
   "outputs": [],
   "source": [
    "df.loc[df.ponds_around3000.isna(),'ponds_around3000'] = 0\n",
    "df.loc[df.parks_around3000.isna(),'parks_around3000'] = 0"
   ]
  },
  {
   "cell_type": "markdown",
   "metadata": {},
   "source": [
    "'*locality_name*' заменим пропуски на кавычки (''), чтобы с этими строками (тх всего 48) можно было работать. Вероятно, продавец забыл указать населенный пункт"
   ]
  },
  {
   "cell_type": "code",
   "execution_count": 197,
   "metadata": {},
   "outputs": [],
   "source": [
    "df.loc[df.locality_name.isna(), 'locality_name'] = ''"
   ]
  },
  {
   "cell_type": "markdown",
   "metadata": {},
   "source": [
    "проанализируем незаполненные значения floors_total"
   ]
  },
  {
   "cell_type": "code",
   "execution_count": 198,
   "metadata": {},
   "outputs": [
    {
     "data": {
      "text/plain": [
       "<AxesSubplot:>"
      ]
     },
     "execution_count": 198,
     "metadata": {},
     "output_type": "execute_result"
    },
    {
     "data": {
      "text/html": [
       "<div>\n",
       "<style scoped>\n",
       "    .dataframe tbody tr th:only-of-type {\n",
       "        vertical-align: middle;\n",
       "    }\n",
       "\n",
       "    .dataframe tbody tr th {\n",
       "        vertical-align: top;\n",
       "    }\n",
       "\n",
       "    .dataframe thead th {\n",
       "        text-align: right;\n",
       "    }\n",
       "</style>\n",
       "<table border=\"1\" class=\"dataframe\">\n",
       "  <thead>\n",
       "    <tr style=\"text-align: right;\">\n",
       "      <th></th>\n",
       "      <th>total_images</th>\n",
       "      <th>last_price</th>\n",
       "      <th>total_area</th>\n",
       "      <th>first_day_exposition</th>\n",
       "      <th>rooms</th>\n",
       "      <th>ceiling_height</th>\n",
       "      <th>floors_total</th>\n",
       "      <th>living_area</th>\n",
       "      <th>floor</th>\n",
       "      <th>is_apartment</th>\n",
       "      <th>...</th>\n",
       "      <th>kitchen_area</th>\n",
       "      <th>balcony</th>\n",
       "      <th>locality_name</th>\n",
       "      <th>airports_nearest</th>\n",
       "      <th>cityCenters_nearest</th>\n",
       "      <th>parks_around3000</th>\n",
       "      <th>parks_nearest</th>\n",
       "      <th>ponds_around3000</th>\n",
       "      <th>ponds_nearest</th>\n",
       "      <th>days_exposition</th>\n",
       "    </tr>\n",
       "  </thead>\n",
       "  <tbody>\n",
       "    <tr>\n",
       "      <th>237</th>\n",
       "      <td>4</td>\n",
       "      <td>2438033.0</td>\n",
       "      <td>28.10</td>\n",
       "      <td>2016-11-23T00:00:00</td>\n",
       "      <td>1</td>\n",
       "      <td>NaN</td>\n",
       "      <td>NaN</td>\n",
       "      <td>20.75</td>\n",
       "      <td>1</td>\n",
       "      <td>NaN</td>\n",
       "      <td>...</td>\n",
       "      <td>NaN</td>\n",
       "      <td>0.0</td>\n",
       "      <td>Санкт-Петербург</td>\n",
       "      <td>22041.0</td>\n",
       "      <td>17369.0</td>\n",
       "      <td>0.0</td>\n",
       "      <td>NaN</td>\n",
       "      <td>1.0</td>\n",
       "      <td>374.0</td>\n",
       "      <td>251.0</td>\n",
       "    </tr>\n",
       "    <tr>\n",
       "      <th>3817</th>\n",
       "      <td>1</td>\n",
       "      <td>1640000.0</td>\n",
       "      <td>23.98</td>\n",
       "      <td>2015-08-25T00:00:00</td>\n",
       "      <td>1</td>\n",
       "      <td>NaN</td>\n",
       "      <td>NaN</td>\n",
       "      <td>NaN</td>\n",
       "      <td>1</td>\n",
       "      <td>NaN</td>\n",
       "      <td>...</td>\n",
       "      <td>NaN</td>\n",
       "      <td>0.0</td>\n",
       "      <td>посёлок Щеглово</td>\n",
       "      <td>61908.0</td>\n",
       "      <td>34085.0</td>\n",
       "      <td>0.0</td>\n",
       "      <td>NaN</td>\n",
       "      <td>0.0</td>\n",
       "      <td>NaN</td>\n",
       "      <td>378.0</td>\n",
       "    </tr>\n",
       "    <tr>\n",
       "      <th>15989</th>\n",
       "      <td>1</td>\n",
       "      <td>4100000.0</td>\n",
       "      <td>74.50</td>\n",
       "      <td>2017-04-22T00:00:00</td>\n",
       "      <td>3</td>\n",
       "      <td>NaN</td>\n",
       "      <td>NaN</td>\n",
       "      <td>NaN</td>\n",
       "      <td>1</td>\n",
       "      <td>NaN</td>\n",
       "      <td>...</td>\n",
       "      <td>NaN</td>\n",
       "      <td>0.0</td>\n",
       "      <td>Красное Село</td>\n",
       "      <td>25382.0</td>\n",
       "      <td>28806.0</td>\n",
       "      <td>0.0</td>\n",
       "      <td>NaN</td>\n",
       "      <td>0.0</td>\n",
       "      <td>NaN</td>\n",
       "      <td>72.0</td>\n",
       "    </tr>\n",
       "  </tbody>\n",
       "</table>\n",
       "<p>3 rows × 22 columns</p>\n",
       "</div>"
      ],
      "text/plain": [
       "       total_images  last_price  total_area first_day_exposition  rooms  \\\n",
       "237               4   2438033.0       28.10  2016-11-23T00:00:00      1   \n",
       "3817              1   1640000.0       23.98  2015-08-25T00:00:00      1   \n",
       "15989             1   4100000.0       74.50  2017-04-22T00:00:00      3   \n",
       "\n",
       "       ceiling_height  floors_total  living_area  floor is_apartment  ...  \\\n",
       "237               NaN           NaN        20.75      1          NaN  ...   \n",
       "3817              NaN           NaN          NaN      1          NaN  ...   \n",
       "15989             NaN           NaN          NaN      1          NaN  ...   \n",
       "\n",
       "       kitchen_area  balcony    locality_name  airports_nearest  \\\n",
       "237             NaN      0.0  Санкт-Петербург           22041.0   \n",
       "3817            NaN      0.0  посёлок Щеглово           61908.0   \n",
       "15989           NaN      0.0     Красное Село           25382.0   \n",
       "\n",
       "      cityCenters_nearest  parks_around3000  parks_nearest  ponds_around3000  \\\n",
       "237               17369.0               0.0            NaN               1.0   \n",
       "3817              34085.0               0.0            NaN               0.0   \n",
       "15989             28806.0               0.0            NaN               0.0   \n",
       "\n",
       "       ponds_nearest  days_exposition  \n",
       "237            374.0            251.0  \n",
       "3817             NaN            378.0  \n",
       "15989            NaN             72.0  \n",
       "\n",
       "[3 rows x 22 columns]"
      ]
     },
     "execution_count": 198,
     "metadata": {},
     "output_type": "execute_result"
    },
    {
     "data": {
      "image/png": "[encoded data removed]",
      "text/plain": [
       "<Figure size 640x480 with 1 Axes>"
      ]
     },
     "metadata": {},
     "output_type": "display_data"
    }
   ],
   "source": [
    "df[df.floors_total.isna()].floor.hist()\n",
    "df[(df.floors_total.isna()) & (df.floor==1)]"
   ]
  },
  {
   "cell_type": "markdown",
   "metadata": {},
   "source": [
    "там где floor == 1 (первый этаж) заполним floors_total каким-нибудь значением, например, 7  \n",
    "в остальных случаях заполним floors_total = floor (будем считать, что продавец не заполнил значение, потому что этаж последний)"
   ]
  },
  {
   "cell_type": "code",
   "execution_count": 199,
   "metadata": {},
   "outputs": [],
   "source": [
    "df.loc[(df.floors_total.isna()) & (df.floor == 1), 'floors_total'] = 7\n",
    "df.loc[df.floors_total.isna(), 'floors_total'] = df[df.floors_total.isna()]['floor']"
   ]
  },
  {
   "cell_type": "markdown",
   "metadata": {},
   "source": [
    "проанализируем ceiling_height"
   ]
  },
  {
   "cell_type": "code",
   "execution_count": 200,
   "metadata": {},
   "outputs": [
    {
     "data": {
      "text/html": [
       "<div>\n",
       "<style scoped>\n",
       "    .dataframe tbody tr th:only-of-type {\n",
       "        vertical-align: middle;\n",
       "    }\n",
       "\n",
       "    .dataframe tbody tr th {\n",
       "        vertical-align: top;\n",
       "    }\n",
       "\n",
       "    .dataframe thead th {\n",
       "        text-align: right;\n",
       "    }\n",
       "</style>\n",
       "<table border=\"1\" class=\"dataframe\">\n",
       "  <thead>\n",
       "    <tr style=\"text-align: right;\">\n",
       "      <th></th>\n",
       "      <th>total_images</th>\n",
       "      <th>last_price</th>\n",
       "      <th>total_area</th>\n",
       "      <th>first_day_exposition</th>\n",
       "      <th>rooms</th>\n",
       "      <th>ceiling_height</th>\n",
       "      <th>floors_total</th>\n",
       "      <th>living_area</th>\n",
       "      <th>floor</th>\n",
       "      <th>is_apartment</th>\n",
       "      <th>...</th>\n",
       "      <th>kitchen_area</th>\n",
       "      <th>balcony</th>\n",
       "      <th>locality_name</th>\n",
       "      <th>airports_nearest</th>\n",
       "      <th>cityCenters_nearest</th>\n",
       "      <th>parks_around3000</th>\n",
       "      <th>parks_nearest</th>\n",
       "      <th>ponds_around3000</th>\n",
       "      <th>ponds_nearest</th>\n",
       "      <th>days_exposition</th>\n",
       "    </tr>\n",
       "  </thead>\n",
       "  <tbody>\n",
       "    <tr>\n",
       "      <th>5712</th>\n",
       "      <td>5</td>\n",
       "      <td>1500000.0</td>\n",
       "      <td>42.8</td>\n",
       "      <td>2017-08-14T00:00:00</td>\n",
       "      <td>2</td>\n",
       "      <td>1.20</td>\n",
       "      <td>2.0</td>\n",
       "      <td>27.5</td>\n",
       "      <td>1</td>\n",
       "      <td>NaN</td>\n",
       "      <td>...</td>\n",
       "      <td>5.20</td>\n",
       "      <td>0.0</td>\n",
       "      <td>городской посёлок Мга</td>\n",
       "      <td>NaN</td>\n",
       "      <td>NaN</td>\n",
       "      <td>0.0</td>\n",
       "      <td>NaN</td>\n",
       "      <td>0.0</td>\n",
       "      <td>NaN</td>\n",
       "      <td>248.0</td>\n",
       "    </tr>\n",
       "    <tr>\n",
       "      <th>16934</th>\n",
       "      <td>5</td>\n",
       "      <td>4100000.0</td>\n",
       "      <td>40.0</td>\n",
       "      <td>2017-10-17T00:00:00</td>\n",
       "      <td>1</td>\n",
       "      <td>1.75</td>\n",
       "      <td>37.0</td>\n",
       "      <td>17.4</td>\n",
       "      <td>5</td>\n",
       "      <td>NaN</td>\n",
       "      <td>...</td>\n",
       "      <td>8.34</td>\n",
       "      <td>0.0</td>\n",
       "      <td>Санкт-Петербург</td>\n",
       "      <td>18732.0</td>\n",
       "      <td>20444.0</td>\n",
       "      <td>0.0</td>\n",
       "      <td>NaN</td>\n",
       "      <td>3.0</td>\n",
       "      <td>80.0</td>\n",
       "      <td>71.0</td>\n",
       "    </tr>\n",
       "    <tr>\n",
       "      <th>22590</th>\n",
       "      <td>16</td>\n",
       "      <td>6000000.0</td>\n",
       "      <td>55.0</td>\n",
       "      <td>2018-10-31T00:00:00</td>\n",
       "      <td>2</td>\n",
       "      <td>1.00</td>\n",
       "      <td>12.0</td>\n",
       "      <td>32.4</td>\n",
       "      <td>7</td>\n",
       "      <td>NaN</td>\n",
       "      <td>...</td>\n",
       "      <td>10.00</td>\n",
       "      <td>0.0</td>\n",
       "      <td>Санкт-Петербург</td>\n",
       "      <td>33053.0</td>\n",
       "      <td>14217.0</td>\n",
       "      <td>2.0</td>\n",
       "      <td>293.0</td>\n",
       "      <td>2.0</td>\n",
       "      <td>289.0</td>\n",
       "      <td>13.0</td>\n",
       "    </tr>\n",
       "  </tbody>\n",
       "</table>\n",
       "<p>3 rows × 22 columns</p>\n",
       "</div>"
      ],
      "text/plain": [
       "       total_images  last_price  total_area first_day_exposition  rooms  \\\n",
       "5712              5   1500000.0        42.8  2017-08-14T00:00:00      2   \n",
       "16934             5   4100000.0        40.0  2017-10-17T00:00:00      1   \n",
       "22590            16   6000000.0        55.0  2018-10-31T00:00:00      2   \n",
       "\n",
       "       ceiling_height  floors_total  living_area  floor is_apartment  ...  \\\n",
       "5712             1.20           2.0         27.5      1          NaN  ...   \n",
       "16934            1.75          37.0         17.4      5          NaN  ...   \n",
       "22590            1.00          12.0         32.4      7          NaN  ...   \n",
       "\n",
       "       kitchen_area  balcony          locality_name  airports_nearest  \\\n",
       "5712           5.20      0.0  городской посёлок Мга               NaN   \n",
       "16934          8.34      0.0        Санкт-Петербург           18732.0   \n",
       "22590         10.00      0.0        Санкт-Петербург           33053.0   \n",
       "\n",
       "      cityCenters_nearest  parks_around3000  parks_nearest  ponds_around3000  \\\n",
       "5712                  NaN               0.0            NaN               0.0   \n",
       "16934             20444.0               0.0            NaN               3.0   \n",
       "22590             14217.0               2.0          293.0               2.0   \n",
       "\n",
       "       ponds_nearest  days_exposition  \n",
       "5712             NaN            248.0  \n",
       "16934           80.0             71.0  \n",
       "22590          289.0             13.0  \n",
       "\n",
       "[3 rows x 22 columns]"
      ]
     },
     "execution_count": 200,
     "metadata": {},
     "output_type": "execute_result"
    }
   ],
   "source": [
    "df[df.ceiling_height < 2]"
   ]
  },
  {
   "cell_type": "markdown",
   "metadata": {},
   "source": [
    "добавим 1 м к высоте потолков для тех квартир, где высота потолка менее 2 м. будем считать, что продавец допустил опечатку"
   ]
  },
  {
   "cell_type": "code",
   "execution_count": 201,
   "metadata": {},
   "outputs": [],
   "source": [
    "df.loc[df.ceiling_height < 2, 'ceiling_height'] = df[df.ceiling_height < 2]['ceiling_height'] + 1"
   ]
  },
  {
   "cell_type": "markdown",
   "metadata": {},
   "source": [
    "для тех высот потолков, которые более 20 м, разделим их на 10. будем считать, что продавец допустил опечатку"
   ]
  },
  {
   "cell_type": "code",
   "execution_count": 202,
   "metadata": {},
   "outputs": [],
   "source": [
    "df.loc[df.ceiling_height > 20, 'ceiling_height'] = df[df.ceiling_height > 20]['ceiling_height'] / 10"
   ]
  },
  {
   "cell_type": "markdown",
   "metadata": {},
   "source": [
    "пропущенные значения заполним медианой"
   ]
  },
  {
   "cell_type": "code",
   "execution_count": 203,
   "metadata": {},
   "outputs": [],
   "source": [
    "df.loc[df.ceiling_height.isna(), 'ceiling_height'] = df.ceiling_height.median()"
   ]
  },
  {
   "cell_type": "markdown",
   "metadata": {},
   "source": [
    "пропущенные значения в living_area заполним следующим образом:  \n",
    "рассчитаем среднее значение отношения жилой площади к общей  \n",
    "умножим общую площадь на полученное значение"
   ]
  },
  {
   "cell_type": "code",
   "execution_count": 204,
   "metadata": {},
   "outputs": [
    {
     "data": {
      "text/plain": [
       "0.5647655216993234"
      ]
     },
     "execution_count": 204,
     "metadata": {},
     "output_type": "execute_result"
    }
   ],
   "source": [
    "df['living_to_total_area'] = df.living_area / df.total_area\n",
    "living_to_total_area_mean = df.living_to_total_area.mean()\n",
    "living_to_total_area_mean\n",
    "df.loc[df.living_area.isna(), 'living_area'] = df[df.living_area.isna()]['total_area'] * living_to_total_area_mean"
   ]
  },
  {
   "cell_type": "markdown",
   "metadata": {},
   "source": [
    "проанализируем kitchen_area"
   ]
  },
  {
   "cell_type": "code",
   "execution_count": 205,
   "metadata": {},
   "outputs": [
    {
     "data": {
      "text/plain": [
       "<AxesSubplot:xlabel='non_living_area', ylabel='kitchen_to_non'>"
      ]
     },
     "execution_count": 205,
     "metadata": {},
     "output_type": "execute_result"
    },
    {
     "data": {
      "image/png": "[encoded data removed]",
      "text/plain": [
       "<Figure size 640x480 with 1 Axes>"
      ]
     },
     "metadata": {},
     "output_type": "display_data"
    }
   ],
   "source": [
    "df['non_living_area'] = df.total_area - df.living_area\n",
    "df['kitchen_to_non'] = df.kitchen_area / df.non_living_area\n",
    "df.plot(kind='scatter', x='non_living_area', y='kitchen_to_non')"
   ]
  },
  {
   "cell_type": "markdown",
   "metadata": {},
   "source": [
    "заполним kitechen_area следующим образом:\n",
    "рассчитаем non_living_area как разницу между общей площадью и жилой\n",
    "посчитаем среднее значение отношения площади кухни к нежилой площади\n",
    "заполним произведением нежилой площади на это рассчитанное значение"
   ]
  },
  {
   "cell_type": "code",
   "execution_count": 206,
   "metadata": {},
   "outputs": [
    {
     "data": {
      "text/plain": [
       "0.42969538061522733"
      ]
     },
     "execution_count": 206,
     "metadata": {},
     "output_type": "execute_result"
    }
   ],
   "source": [
    "df['kitchen_to_non'] = df.kitchen_area / df.non_living_area\n",
    "kitchen_to_non_mean = df.kitchen_to_non.mean()\n",
    "kitchen_to_non_mean\n",
    "df.loc[df.kitchen_area.isna(), 'kitchen_area'] = df[df.kitchen_area.isna()]['non_living_area'] * kitchen_to_non_mean"
   ]
  },
  {
   "cell_type": "markdown",
   "metadata": {},
   "source": [
    "удалим технические поля"
   ]
  },
  {
   "cell_type": "code",
   "execution_count": 207,
   "metadata": {},
   "outputs": [],
   "source": [
    "df = df.drop(columns=['living_to_total_area','non_living_area','kitchen_to_non'])"
   ]
  },
  {
   "cell_type": "markdown",
   "metadata": {},
   "source": [
    "проанализиуруем пропущенные значения is_apartment"
   ]
  },
  {
   "cell_type": "code",
   "execution_count": 208,
   "metadata": {},
   "outputs": [
    {
     "data": {
      "text/plain": [
       "50"
      ]
     },
     "execution_count": 208,
     "metadata": {},
     "output_type": "execute_result"
    },
    {
     "data": {
      "text/plain": [
       "2725"
      ]
     },
     "execution_count": 208,
     "metadata": {},
     "output_type": "execute_result"
    }
   ],
   "source": [
    "df[df.is_apartment == True]['is_apartment'].count()\n",
    "df[df.is_apartment == False]['is_apartment'].count()"
   ]
  },
  {
   "cell_type": "markdown",
   "metadata": {},
   "source": [
    "проставленных значений True так мало, что, видимо, их мало в целом и пропущенные значения выглядит разумным заполнить значением False для всех"
   ]
  },
  {
   "cell_type": "code",
   "execution_count": 209,
   "metadata": {},
   "outputs": [],
   "source": [
    "df.loc[df.is_apartment.isna(), 'is_apartment'] = False"
   ]
  },
  {
   "cell_type": "code",
   "execution_count": 210,
   "metadata": {},
   "outputs": [
    {
     "data": {
      "text/plain": [
       "array(['2019-03-07T00:00:00', '2019-04-18T00:00:00',\n",
       "       '2018-11-18T00:00:00', '2018-12-02T00:00:00',\n",
       "       '2019-01-31T00:00:00', '2018-11-22T00:00:00',\n",
       "       '2017-09-22T00:00:00', '2019-03-27T00:00:00',\n",
       "       '2018-12-27T00:00:00', '2019-03-13T00:00:00',\n",
       "       '2019-04-23T00:00:00', '2019-04-09T00:00:00',\n",
       "       '2019-03-23T00:00:00', '2017-10-30T00:00:00',\n",
       "       '2019-02-07T00:00:00', '2019-04-06T00:00:00',\n",
       "       '2019-03-10T00:00:00', '2019-04-29T00:00:00',\n",
       "       '2018-08-20T00:00:00', '2019-02-27T00:00:00',\n",
       "       '2019-03-20T00:00:00', '2018-07-11T00:00:00',\n",
       "       '2019-02-28T00:00:00', '2019-04-08T00:00:00',\n",
       "       '2017-04-11T00:00:00', '2019-03-08T00:00:00',\n",
       "       '2019-03-14T00:00:00', '2019-03-30T00:00:00',\n",
       "       '2019-04-11T00:00:00', '2017-08-23T00:00:00',\n",
       "       '2019-04-16T00:00:00', '2018-09-08T00:00:00',\n",
       "       '2019-04-17T00:00:00', '2018-09-07T00:00:00',\n",
       "       '2019-04-01T00:00:00', '2017-12-12T00:00:00',\n",
       "       '2019-04-24T00:00:00', '2017-12-15T00:00:00',\n",
       "       '2017-11-21T00:00:00', '2014-12-09T00:00:00',\n",
       "       '2019-01-24T00:00:00', '2016-11-19T00:00:00',\n",
       "       '2019-03-18T00:00:00', '2019-02-21T00:00:00',\n",
       "       '2019-03-11T00:00:00', '2018-10-19T00:00:00',\n",
       "       '2019-04-26T00:00:00', '2019-04-04T00:00:00',\n",
       "       '2018-04-25T00:00:00', '2019-05-01T00:00:00',\n",
       "       '2019-02-20T00:00:00', '2017-11-20T00:00:00',\n",
       "       '2018-08-07T00:00:00', '2019-03-19T00:00:00',\n",
       "       '2016-05-24T00:00:00', '2018-07-21T00:00:00',\n",
       "       '2018-03-24T00:00:00', '2019-03-29T00:00:00',\n",
       "       '2018-10-05T00:00:00', '2016-11-02T00:00:00',\n",
       "       '2016-10-25T00:00:00', '2018-11-06T00:00:00',\n",
       "       '2018-02-21T00:00:00', '2019-03-12T00:00:00',\n",
       "       '2017-07-23T00:00:00', '2019-04-03T00:00:00',\n",
       "       '2019-03-21T00:00:00', '2018-12-12T00:00:00',\n",
       "       '2018-03-16T00:00:00', '2019-01-28T00:00:00',\n",
       "       '2018-11-16T00:00:00', '2018-07-19T00:00:00',\n",
       "       '2017-11-14T00:00:00', '2019-04-12T00:00:00',\n",
       "       '2018-07-01T00:00:00', '2019-02-11T00:00:00',\n",
       "       '2019-04-27T00:00:00', '2018-02-08T00:00:00',\n",
       "       '2019-02-13T00:00:00', '2017-11-08T00:00:00',\n",
       "       '2019-04-21T00:00:00', '2019-03-28T00:00:00',\n",
       "       '2017-10-18T00:00:00', '2018-10-17T00:00:00',\n",
       "       '2019-01-14T00:00:00', '2017-12-13T00:00:00',\n",
       "       '2019-03-25T00:00:00', '2018-07-23T00:00:00',\n",
       "       '2017-07-05T00:00:00', '2018-05-14T00:00:00',\n",
       "       '2019-04-15T00:00:00', '2018-10-24T00:00:00',\n",
       "       '2017-05-15T00:00:00', '2015-02-19T00:00:00',\n",
       "       '2018-12-03T00:00:00', '2018-07-25T00:00:00',\n",
       "       '2018-06-06T00:00:00', '2019-01-23T00:00:00',\n",
       "       '2018-10-12T00:00:00', '2018-11-27T00:00:00',\n",
       "       '2018-08-22T00:00:00', '2019-02-12T00:00:00',\n",
       "       '2019-02-09T00:00:00', '2017-09-14T00:00:00',\n",
       "       '2018-11-19T00:00:00', '2019-03-04T00:00:00',\n",
       "       '2018-01-16T00:00:00', '2017-11-07T00:00:00',\n",
       "       '2018-04-03T00:00:00', '2018-07-16T00:00:00',\n",
       "       '2017-08-25T00:00:00', '2015-09-24T00:00:00',\n",
       "       '2018-11-20T00:00:00', '2019-04-13T00:00:00',\n",
       "       '2018-05-29T00:00:00', '2019-04-02T00:00:00',\n",
       "       '2019-03-09T00:00:00', '2018-07-17T00:00:00',\n",
       "       '2017-01-16T00:00:00', '2017-08-02T00:00:00',\n",
       "       '2018-05-31T00:00:00', '2015-08-06T00:00:00',\n",
       "       '2019-04-22T00:00:00', '2019-03-06T00:00:00',\n",
       "       '2018-09-17T00:00:00', '2018-09-26T00:00:00',\n",
       "       '2019-03-05T00:00:00', '2018-06-05T00:00:00',\n",
       "       '2017-12-22T00:00:00', '2018-11-02T00:00:00',\n",
       "       '2019-05-02T00:00:00', '2019-04-20T00:00:00',\n",
       "       '2017-11-22T00:00:00', '2019-01-29T00:00:00',\n",
       "       '2018-03-26T00:00:00', '2018-12-08T00:00:00',\n",
       "       '2016-08-31T00:00:00', '2018-08-06T00:00:00',\n",
       "       '2018-10-29T00:00:00', '2018-12-18T00:00:00',\n",
       "       '2019-03-17T00:00:00', '2018-03-15T00:00:00',\n",
       "       '2017-04-09T00:00:00', '2019-04-25T00:00:00',\n",
       "       '2018-12-16T00:00:00', '2015-09-20T00:00:00',\n",
       "       '2018-10-30T00:00:00', '2018-05-19T00:00:00',\n",
       "       '2019-02-23T00:00:00', '2019-04-10T00:00:00',\n",
       "       '2018-05-02T00:00:00', '2019-04-28T00:00:00',\n",
       "       '2018-09-12T00:00:00', '2018-01-18T00:00:00',\n",
       "       '2019-02-18T00:00:00', '2015-09-21T00:00:00',\n",
       "       '2015-06-03T00:00:00', '2018-11-14T00:00:00',\n",
       "       '2018-10-23T00:00:00', '2019-01-27T00:00:00',\n",
       "       '2018-06-26T00:00:00', '2018-11-07T00:00:00',\n",
       "       '2019-03-01T00:00:00', '2018-07-13T00:00:00',\n",
       "       '2018-12-17T00:00:00', '2018-10-11T00:00:00',\n",
       "       '2017-11-17T00:00:00', '2017-09-01T00:00:00',\n",
       "       '2017-07-03T00:00:00', '2018-07-09T00:00:00',\n",
       "       '2017-07-19T00:00:00', '2018-07-31T00:00:00',\n",
       "       '2018-03-21T00:00:00', '2017-09-19T00:00:00',\n",
       "       '2019-03-22T00:00:00', '2019-04-30T00:00:00',\n",
       "       '2018-08-21T00:00:00', '2018-07-02T00:00:00',\n",
       "       '2019-04-19T00:00:00', '2017-12-23T00:00:00',\n",
       "       '2018-09-21T00:00:00', '2019-02-22T00:00:00',\n",
       "       '2019-05-03T00:00:00', '2018-08-23T00:00:00',\n",
       "       '2019-01-03T00:00:00', '2015-06-17T00:00:00',\n",
       "       '2019-02-06T00:00:00', '2018-11-30T00:00:00',\n",
       "       '2019-02-19T00:00:00', '2018-08-19T00:00:00',\n",
       "       '2017-10-02T00:00:00', '2018-09-27T00:00:00',\n",
       "       '2018-09-11T00:00:00', '2018-10-16T00:00:00',\n",
       "       '2017-05-18T00:00:00', '2015-05-08T00:00:00',\n",
       "       '2018-01-12T00:00:00', '2018-12-14T00:00:00',\n",
       "       '2018-09-20T00:00:00', '2018-07-20T00:00:00',\n",
       "       '2017-12-21T00:00:00', '2016-10-24T00:00:00',\n",
       "       '2019-01-30T00:00:00', '2018-10-18T00:00:00',\n",
       "       '2018-02-27T00:00:00', '2018-12-09T00:00:00',\n",
       "       '2018-07-06T00:00:00', '2018-08-04T00:00:00',\n",
       "       '2018-04-21T00:00:00', '2019-02-26T00:00:00',\n",
       "       '2018-07-04T00:00:00', '2019-03-26T00:00:00',\n",
       "       '2019-02-04T00:00:00', '2018-04-04T00:00:00',\n",
       "       '2018-12-06T00:00:00', '2018-12-22T00:00:00',\n",
       "       '2019-02-08T00:00:00', '2019-01-22T00:00:00',\n",
       "       '2017-12-06T00:00:00', '2017-10-17T00:00:00',\n",
       "       '2019-04-05T00:00:00', '2014-12-11T00:00:00',\n",
       "       '2018-02-01T00:00:00', '2018-08-16T00:00:00',\n",
       "       '2019-03-03T00:00:00', '2017-11-30T00:00:00',\n",
       "       '2019-03-15T00:00:00', '2018-12-19T00:00:00',\n",
       "       '2019-04-07T00:00:00', '2018-09-19T00:00:00',\n",
       "       '2018-02-02T00:00:00', '2018-09-25T00:00:00',\n",
       "       '2019-04-14T00:00:00', '2018-10-08T00:00:00',\n",
       "       '2019-02-03T00:00:00', '2016-06-30T00:00:00',\n",
       "       '2018-05-22T00:00:00', '2018-08-15T00:00:00',\n",
       "       '2018-10-21T00:00:00', '2016-05-20T00:00:00',\n",
       "       '2018-12-26T00:00:00', '2018-06-13T00:00:00',\n",
       "       '2017-11-29T00:00:00', '2019-01-11T00:00:00',\n",
       "       '2018-11-12T00:00:00', '2018-09-22T00:00:00',\n",
       "       '2019-03-02T00:00:00', '2018-07-26T00:00:00',\n",
       "       '2014-11-27T00:00:00', '2017-02-19T00:00:00',\n",
       "       '2018-08-03T00:00:00', '2015-03-23T00:00:00',\n",
       "       '2015-08-25T00:00:00', '2018-09-18T00:00:00',\n",
       "       '2017-12-04T00:00:00', '2018-10-15T00:00:00',\n",
       "       '2018-09-04T00:00:00', '2015-05-09T00:00:00',\n",
       "       '2018-09-02T00:00:00', '2017-04-10T00:00:00',\n",
       "       '2015-12-08T00:00:00', '2018-12-10T00:00:00',\n",
       "       '2018-08-24T00:00:00', '2018-03-14T00:00:00',\n",
       "       '2019-01-05T00:00:00', '2019-02-10T00:00:00',\n",
       "       '2018-03-31T00:00:00', '2018-01-07T00:00:00',\n",
       "       '2018-02-19T00:00:00', '2016-03-30T00:00:00',\n",
       "       '2018-11-11T00:00:00', '2019-01-12T00:00:00',\n",
       "       '2018-11-25T00:00:00', '2018-11-08T00:00:00',\n",
       "       '2018-05-04T00:00:00', '2017-10-23T00:00:00',\n",
       "       '2018-10-04T00:00:00', '2015-02-11T00:00:00',\n",
       "       '2015-01-23T00:00:00', '2015-01-21T00:00:00',\n",
       "       '2018-11-03T00:00:00', '2014-12-10T00:00:00',\n",
       "       '2019-01-20T00:00:00', '2019-03-31T00:00:00',\n",
       "       '2019-02-25T00:00:00', '2018-11-29T00:00:00',\n",
       "       '2018-06-16T00:00:00', '2018-01-11T00:00:00',\n",
       "       '2018-10-03T00:00:00', '2018-10-31T00:00:00',\n",
       "       '2016-03-28T00:00:00', '2018-08-25T00:00:00',\n",
       "       '2017-10-14T00:00:00', '2018-08-08T00:00:00',\n",
       "       '2019-01-25T00:00:00', '2018-08-30T00:00:00',\n",
       "       '2017-10-10T00:00:00', '2018-01-19T00:00:00',\n",
       "       '2017-12-09T00:00:00', '2017-08-28T00:00:00',\n",
       "       '2018-06-15T00:00:00', '2017-10-09T00:00:00',\n",
       "       '2018-10-09T00:00:00', '2018-12-25T00:00:00',\n",
       "       '2018-07-14T00:00:00', '2017-11-23T00:00:00',\n",
       "       '2018-08-31T00:00:00', '2018-04-26T00:00:00',\n",
       "       '2018-03-02T00:00:00', '2018-09-28T00:00:00',\n",
       "       '2017-07-10T00:00:00', '2016-02-20T00:00:00',\n",
       "       '2017-12-27T00:00:00', '2017-12-18T00:00:00',\n",
       "       '2016-02-01T00:00:00', '2018-12-30T00:00:00',\n",
       "       '2016-11-24T00:00:00', '2018-11-21T00:00:00',\n",
       "       '2018-11-17T00:00:00', '2018-01-13T00:00:00',\n",
       "       '2018-01-17T00:00:00', '2019-03-24T00:00:00',\n",
       "       '2018-09-10T00:00:00', '2015-09-04T00:00:00',\n",
       "       '2017-11-10T00:00:00', '2018-02-05T00:00:00',\n",
       "       '2018-04-01T00:00:00', '2019-01-10T00:00:00',\n",
       "       '2017-06-28T00:00:00', '2018-11-15T00:00:00',\n",
       "       '2019-02-14T00:00:00', '2018-11-23T00:00:00',\n",
       "       '2018-09-05T00:00:00', '2018-05-24T00:00:00',\n",
       "       '2017-06-05T00:00:00', '2017-01-11T00:00:00',\n",
       "       '2018-03-23T00:00:00', '2019-01-26T00:00:00',\n",
       "       '2019-02-05T00:00:00', '2016-12-10T00:00:00',\n",
       "       '2017-10-01T00:00:00', '2017-11-04T00:00:00',\n",
       "       '2018-11-10T00:00:00', '2016-09-21T00:00:00',\n",
       "       '2018-08-18T00:00:00', '2018-06-22T00:00:00',\n",
       "       '2017-10-25T00:00:00', '2017-06-16T00:00:00',\n",
       "       '2017-11-09T00:00:00', '2018-04-16T00:00:00',\n",
       "       '2018-06-23T00:00:00', '2018-08-14T00:00:00',\n",
       "       '2018-12-24T00:00:00', '2018-07-22T00:00:00',\n",
       "       '2015-08-14T00:00:00', '2017-12-01T00:00:00',\n",
       "       '2018-05-08T00:00:00', '2016-05-12T00:00:00',\n",
       "       '2019-01-06T00:00:00', '2017-08-18T00:00:00',\n",
       "       '2018-04-18T00:00:00', '2017-07-04T00:00:00',\n",
       "       '2018-10-07T00:00:00', '2017-04-07T00:00:00',\n",
       "       '2017-09-09T00:00:00', '2018-10-01T00:00:00',\n",
       "       '2017-06-30T00:00:00', '2018-10-13T00:00:00',\n",
       "       '2018-11-26T00:00:00', '2018-12-21T00:00:00',\n",
       "       '2017-10-03T00:00:00', '2018-01-22T00:00:00',\n",
       "       '2017-06-20T00:00:00', '2017-09-08T00:00:00',\n",
       "       '2018-09-01T00:00:00', '2016-06-06T00:00:00',\n",
       "       '2016-02-27T00:00:00', '2017-03-21T00:00:00',\n",
       "       '2018-03-12T00:00:00', '2018-11-04T00:00:00',\n",
       "       '2018-02-18T00:00:00', '2015-06-30T00:00:00',\n",
       "       '2015-02-28T00:00:00', '2019-02-24T00:00:00',\n",
       "       '2014-12-12T00:00:00', '2014-12-08T00:00:00',\n",
       "       '2018-07-03T00:00:00', '2017-12-07T00:00:00',\n",
       "       '2016-04-28T00:00:00', '2017-10-12T00:00:00',\n",
       "       '2017-02-21T00:00:00', '2019-01-21T00:00:00',\n",
       "       '2017-09-15T00:00:00', '2017-05-12T00:00:00',\n",
       "       '2018-07-08T00:00:00', '2018-10-06T00:00:00',\n",
       "       '2016-09-28T00:00:00', '2017-11-02T00:00:00',\n",
       "       '2016-08-14T00:00:00', '2017-09-07T00:00:00',\n",
       "       '2018-11-28T00:00:00', '2018-06-25T00:00:00',\n",
       "       '2018-12-11T00:00:00', '2018-09-16T00:00:00',\n",
       "       '2018-08-27T00:00:00', '2017-02-09T00:00:00',\n",
       "       '2017-07-17T00:00:00', '2017-12-02T00:00:00',\n",
       "       '2016-09-27T00:00:00', '2017-02-08T00:00:00',\n",
       "       '2018-11-01T00:00:00', '2018-06-28T00:00:00',\n",
       "       '2017-06-08T00:00:00', '2017-02-17T00:00:00',\n",
       "       '2018-08-01T00:00:00', '2017-10-04T00:00:00',\n",
       "       '2017-10-24T00:00:00', '2018-06-19T00:00:00',\n",
       "       '2017-10-26T00:00:00', '2017-01-09T00:00:00',\n",
       "       '2018-12-13T00:00:00', '2018-02-24T00:00:00',\n",
       "       '2017-04-03T00:00:00', '2018-06-01T00:00:00',\n",
       "       '2018-01-20T00:00:00', '2017-08-22T00:00:00',\n",
       "       '2018-02-20T00:00:00', '2018-03-28T00:00:00',\n",
       "       '2018-07-10T00:00:00', '2017-05-25T00:00:00',\n",
       "       '2018-07-28T00:00:00', '2019-01-09T00:00:00',\n",
       "       '2018-10-20T00:00:00', '2015-05-20T00:00:00',\n",
       "       '2017-03-10T00:00:00', '2018-03-30T00:00:00',\n",
       "       '2018-08-09T00:00:00', '2018-11-24T00:00:00',\n",
       "       '2018-07-18T00:00:00', '2018-02-10T00:00:00',\n",
       "       '2018-06-17T00:00:00', '2019-01-17T00:00:00',\n",
       "       '2017-12-19T00:00:00', '2018-12-07T00:00:00',\n",
       "       '2017-03-26T00:00:00', '2016-03-19T00:00:00',\n",
       "       '2015-01-22T00:00:00', '2015-11-06T00:00:00',\n",
       "       '2015-08-23T00:00:00', '2019-02-16T00:00:00',\n",
       "       '2018-01-09T00:00:00', '2015-03-10T00:00:00',\n",
       "       '2016-09-17T00:00:00', '2016-08-10T00:00:00',\n",
       "       '2017-02-13T00:00:00', '2018-08-28T00:00:00',\n",
       "       '2016-10-23T00:00:00', '2016-04-02T00:00:00',\n",
       "       '2018-11-13T00:00:00', '2018-11-05T00:00:00',\n",
       "       '2019-01-08T00:00:00', '2015-11-10T00:00:00',\n",
       "       '2018-07-30T00:00:00', '2016-08-01T00:00:00',\n",
       "       '2015-12-02T00:00:00', '2017-12-20T00:00:00',\n",
       "       '2019-02-01T00:00:00', '2017-07-14T00:00:00',\n",
       "       '2018-04-05T00:00:00', '2016-07-04T00:00:00',\n",
       "       '2018-02-28T00:00:00', '2017-10-20T00:00:00',\n",
       "       '2017-09-23T00:00:00', '2017-06-29T00:00:00',\n",
       "       '2018-09-14T00:00:00', '2018-07-05T00:00:00',\n",
       "       '2016-05-18T00:00:00', '2017-06-22T00:00:00',\n",
       "       '2018-05-13T00:00:00', '2017-05-16T00:00:00',\n",
       "       '2014-12-27T00:00:00', '2018-07-24T00:00:00',\n",
       "       '2018-09-06T00:00:00', '2015-01-15T00:00:00',\n",
       "       '2018-12-28T00:00:00', '2016-04-04T00:00:00',\n",
       "       '2015-08-31T00:00:00', '2018-03-19T00:00:00',\n",
       "       '2018-09-03T00:00:00', '2016-02-25T00:00:00',\n",
       "       '2017-06-01T00:00:00', '2017-10-21T00:00:00',\n",
       "       '2018-04-11T00:00:00', '2017-10-13T00:00:00',\n",
       "       '2015-02-12T00:00:00', '2018-06-30T00:00:00',\n",
       "       '2017-06-02T00:00:00', '2016-05-19T00:00:00',\n",
       "       '2018-10-22T00:00:00', '2017-08-11T00:00:00',\n",
       "       '2017-09-10T00:00:00', '2018-05-25T00:00:00',\n",
       "       '2017-07-31T00:00:00', '2018-04-19T00:00:00',\n",
       "       '2017-05-01T00:00:00', '2018-10-25T00:00:00',\n",
       "       '2018-10-28T00:00:00', '2016-11-11T00:00:00',\n",
       "       '2018-01-15T00:00:00', '2018-12-15T00:00:00',\n",
       "       '2018-03-27T00:00:00', '2018-06-20T00:00:00',\n",
       "       '2017-09-27T00:00:00', '2016-04-18T00:00:00',\n",
       "       '2017-06-21T00:00:00', '2019-01-19T00:00:00',\n",
       "       '2018-02-12T00:00:00', '2018-10-27T00:00:00',\n",
       "       '2017-02-03T00:00:00', '2015-11-18T00:00:00',\n",
       "       '2017-03-03T00:00:00', '2018-03-06T00:00:00',\n",
       "       '2018-08-05T00:00:00', '2018-03-11T00:00:00',\n",
       "       '2018-05-12T00:00:00', '2015-11-25T00:00:00',\n",
       "       '2019-03-16T00:00:00', '2018-09-24T00:00:00',\n",
       "       '2018-06-14T00:00:00', '2016-03-26T00:00:00',\n",
       "       '2015-03-25T00:00:00', '2018-08-17T00:00:00',\n",
       "       '2018-02-22T00:00:00', '2018-02-14T00:00:00',\n",
       "       '2017-04-27T00:00:00', '2015-06-23T00:00:00',\n",
       "       '2017-12-14T00:00:00', '2017-01-06T00:00:00',\n",
       "       '2015-06-25T00:00:00', '2018-12-31T00:00:00',\n",
       "       '2016-09-04T00:00:00', '2017-11-27T00:00:00',\n",
       "       '2018-08-13T00:00:00', '2018-03-25T00:00:00',\n",
       "       '2018-06-27T00:00:00', '2018-10-02T00:00:00',\n",
       "       '2018-08-11T00:00:00', '2016-11-17T00:00:00',\n",
       "       '2016-03-27T00:00:00', '2017-10-28T00:00:00',\n",
       "       '2019-02-17T00:00:00', '2017-03-07T00:00:00',\n",
       "       '2018-06-08T00:00:00', '2018-03-03T00:00:00',\n",
       "       '2018-08-10T00:00:00', '2018-03-29T00:00:00',\n",
       "       '2018-10-10T00:00:00', '2015-06-02T00:00:00',\n",
       "       '2017-10-05T00:00:00', '2018-06-29T00:00:00',\n",
       "       '2017-01-31T00:00:00', '2015-09-03T00:00:00',\n",
       "       '2018-04-20T00:00:00', '2016-10-08T00:00:00',\n",
       "       '2017-01-25T00:00:00', '2018-01-04T00:00:00',\n",
       "       '2017-01-19T00:00:00', '2017-01-23T00:00:00',\n",
       "       '2018-02-15T00:00:00', '2017-11-01T00:00:00',\n",
       "       '2018-03-20T00:00:00', '2016-03-25T00:00:00',\n",
       "       '2018-04-27T00:00:00', '2015-01-03T00:00:00',\n",
       "       '2017-04-18T00:00:00', '2015-11-23T00:00:00',\n",
       "       '2018-01-23T00:00:00', '2018-09-13T00:00:00',\n",
       "       '2018-02-17T00:00:00', '2018-11-09T00:00:00',\n",
       "       '2017-09-28T00:00:00', '2018-06-07T00:00:00',\n",
       "       '2018-09-30T00:00:00', '2017-12-25T00:00:00',\n",
       "       '2018-01-08T00:00:00', '2018-03-18T00:00:00',\n",
       "       '2018-04-12T00:00:00', '2015-01-27T00:00:00',\n",
       "       '2017-03-13T00:00:00', '2017-10-19T00:00:00',\n",
       "       '2017-08-30T00:00:00', '2017-10-11T00:00:00',\n",
       "       '2018-12-23T00:00:00', '2015-03-13T00:00:00',\n",
       "       '2016-04-19T00:00:00', '2019-02-15T00:00:00',\n",
       "       '2015-10-08T00:00:00', '2019-01-07T00:00:00',\n",
       "       '2015-04-13T00:00:00', '2018-12-01T00:00:00',\n",
       "       '2016-08-29T00:00:00', '2018-06-18T00:00:00',\n",
       "       '2018-01-05T00:00:00', '2016-03-24T00:00:00',\n",
       "       '2018-05-17T00:00:00', '2018-05-05T00:00:00',\n",
       "       '2018-12-05T00:00:00', '2018-08-02T00:00:00',\n",
       "       '2016-08-04T00:00:00', '2018-08-29T00:00:00',\n",
       "       '2017-12-05T00:00:00', '2015-10-21T00:00:00',\n",
       "       '2018-10-26T00:00:00', '2017-09-13T00:00:00',\n",
       "       '2016-12-15T00:00:00', '2018-03-13T00:00:00',\n",
       "       '2018-02-23T00:00:00', '2016-05-28T00:00:00',\n",
       "       '2017-09-20T00:00:00', '2019-01-02T00:00:00',\n",
       "       '2018-07-15T00:00:00', '2019-01-01T00:00:00',\n",
       "       '2015-01-20T00:00:00', '2018-02-09T00:00:00',\n",
       "       '2017-08-10T00:00:00', '2018-02-26T00:00:00',\n",
       "       '2017-04-20T00:00:00', '2017-11-28T00:00:00',\n",
       "       '2018-07-27T00:00:00', '2015-10-02T00:00:00',\n",
       "       '2017-07-16T00:00:00', '2018-05-23T00:00:00',\n",
       "       '2017-12-03T00:00:00', '2016-05-26T00:00:00',\n",
       "       '2017-09-21T00:00:00', '2017-07-01T00:00:00',\n",
       "       '2018-05-28T00:00:00', '2018-01-14T00:00:00',\n",
       "       '2018-04-09T00:00:00', '2017-08-24T00:00:00',\n",
       "       '2018-12-04T00:00:00', '2016-05-31T00:00:00',\n",
       "       '2015-11-22T00:00:00', '2017-03-27T00:00:00',\n",
       "       '2017-02-02T00:00:00', '2017-05-29T00:00:00',\n",
       "       '2019-01-15T00:00:00', '2017-04-17T00:00:00',\n",
       "       '2019-01-13T00:00:00', '2015-08-10T00:00:00',\n",
       "       '2016-02-16T00:00:00', '2017-07-11T00:00:00',\n",
       "       '2015-12-15T00:00:00', '2017-09-06T00:00:00',\n",
       "       '2017-05-19T00:00:00', '2017-06-13T00:00:00',\n",
       "       '2017-08-15T00:00:00', '2018-02-13T00:00:00',\n",
       "       '2017-03-31T00:00:00', '2018-05-11T00:00:00',\n",
       "       '2017-01-24T00:00:00', '2017-10-31T00:00:00',\n",
       "       '2017-09-25T00:00:00', '2016-10-10T00:00:00',\n",
       "       '2016-05-27T00:00:00', '2017-04-22T00:00:00',\n",
       "       '2017-02-12T00:00:00', '2017-04-05T00:00:00',\n",
       "       '2017-07-08T00:00:00', '2018-04-13T00:00:00',\n",
       "       '2015-03-26T00:00:00', '2015-10-06T00:00:00',\n",
       "       '2019-01-16T00:00:00', '2018-02-07T00:00:00',\n",
       "       '2017-03-15T00:00:00', '2015-06-18T00:00:00',\n",
       "       '2018-02-16T00:00:00', '2016-01-23T00:00:00',\n",
       "       '2017-07-28T00:00:00', '2015-04-22T00:00:00',\n",
       "       '2017-08-27T00:00:00', '2018-03-07T00:00:00',\n",
       "       '2018-06-10T00:00:00', '2016-08-21T00:00:00',\n",
       "       '2017-09-04T00:00:00', '2016-03-31T00:00:00',\n",
       "       '2018-02-04T00:00:00', '2016-11-04T00:00:00',\n",
       "       '2017-05-02T00:00:00', '2018-03-10T00:00:00',\n",
       "       '2016-11-10T00:00:00', '2018-06-04T00:00:00',\n",
       "       '2018-07-07T00:00:00', '2018-04-07T00:00:00',\n",
       "       '2016-06-02T00:00:00', '2017-07-26T00:00:00',\n",
       "       '2018-07-12T00:00:00', '2016-06-21T00:00:00',\n",
       "       '2016-12-20T00:00:00', '2017-04-16T00:00:00',\n",
       "       '2016-02-18T00:00:00', '2017-10-27T00:00:00',\n",
       "       '2018-03-08T00:00:00', '2016-05-29T00:00:00',\n",
       "       '2018-04-24T00:00:00', '2015-03-11T00:00:00',\n",
       "       '2018-02-11T00:00:00', '2017-07-21T00:00:00'], dtype=object)"
      ]
     },
     "execution_count": 210,
     "metadata": {},
     "output_type": "execute_result"
    }
   ],
   "source": [
    "df[df.days_exposition.isna()]['first_day_exposition'].unique()"
   ]
  },
  {
   "cell_type": "markdown",
   "metadata": {},
   "source": [
    "никаких идей, как заполнить пропущенные значения в поле days_exposition"
   ]
  },
  {
   "cell_type": "markdown",
   "metadata": {},
   "source": [
    "поменяем типы нескольких полей:  \n",
    " first_day_exposition  object  -> datetime - чтобы работать с данными как  датами  \n",
    " floors_total          float64 -> int - чтобы сэкономить место в памяти  \n",
    " balcony               float64 -> int - чтобы сэкономить место в памяти  \n",
    " parks_around3000      float64 -> int - чтобы сэкономить место в памяти  \n",
    " ponds_around3000      float64 -> int - чтобы сэкономить место в памяти  \n",
    " days_exposition       float64 -> int - чтобы сэкономить место в памяти  \n",
    " is_apartment          object  -> bool - чтобы работать с данными как с булевыми значениями  \n"
   ]
  },
  {
   "cell_type": "code",
   "execution_count": 211,
   "metadata": {},
   "outputs": [],
   "source": [
    "df.loc[:,'first_day_exposition'] = pd.to_datetime(df.first_day_exposition, format='%Y-%m-%dT')"
   ]
  },
  {
   "cell_type": "code",
   "execution_count": 212,
   "metadata": {},
   "outputs": [],
   "source": [
    "df.floors_total = df.floors_total.astype(int)\n",
    "df.balcony = df.balcony.astype(int)\n",
    "df.parks_around3000 = df.parks_around3000.astype(int)\n",
    "df.ponds_around3000 = df.ponds_around3000.astype(int)\n",
    "df.days_exposition = df.days_exposition.astype(int, errors='ignore')\n",
    "df.is_apartment = df.is_apartment.astype('bool', errors='ignore')"
   ]
  },
  {
   "cell_type": "code",
   "execution_count": 216,
   "metadata": {},
   "outputs": [
    {
     "data": {
      "text/plain": [
       "313"
      ]
     },
     "execution_count": 216,
     "metadata": {},
     "output_type": "execute_result"
    },
    {
     "data": {
      "text/plain": [
       "array(['Санкт-петербург', 'Шушары', 'Янино-1', 'Парголово', 'Мурино',\n",
       "       'Ломоносов', 'Сертолово', 'Петергоф', 'Пушкин', 'Кудрово',\n",
       "       'Коммунар', 'Колпино', 'Красный бор', 'Гатчина', 'Федоровское',\n",
       "       'Выборг', 'Кронштадт', 'Кировск', 'Новое девяткино',\n",
       "       'Металлострой', 'Лебяжье', 'Сиверский', 'Молодцово',\n",
       "       'Кузьмоловский', 'Садовое товарищество новая ропша', 'Павловск',\n",
       "       'Пикколово', 'Всеволожск', 'Волхов', 'Кингисепп', 'Приозерск',\n",
       "       'Сестрорецк', 'Куттузи', 'Аннино', 'Ефимовский', 'Плодовое',\n",
       "       'Заклинье', 'Торковичи', 'Первомайское', 'Красное село',\n",
       "       'Понтонный', 'Сясьстрой', 'Старая', 'Лесколово', 'Новый свет',\n",
       "       'Сланцы', 'Село путилово', 'Ивангород', 'Шлиссельбург',\n",
       "       'Никольское', 'Зеленогорск', 'Сосновый бор', 'Оржицы', 'Кальтино',\n",
       "       'Романовка', 'Бугры', 'Рощино', 'Кириши', 'Луга', 'Волосово',\n",
       "       'Отрадное', 'Село павлово', 'Оредеж', 'Село копорье', 'Молодежное',\n",
       "       'Тихвин', 'Победа', 'Нурма', 'Синявино', 'Тосно', 'Стрельна',\n",
       "       'Бокситогорск', 'Александровская', 'Лопухинка', 'Пикалево',\n",
       "       'Терволово', 'Советский', 'Подпорожье', 'Петровское', 'Токсово',\n",
       "       'Сельцо', 'Вырица', 'Кипень', 'Келози', 'Вартемяги', 'Тельмана',\n",
       "       'Севастьяново', 'Большая ижора', '', 'Павлово', 'Агалатово',\n",
       "       'Новогорелово', 'Лесогорский', 'Лаголово', 'Цвелодубово', 'Рахья',\n",
       "       'Белогорка', 'Заводской', 'Новоселье', 'Большие колпаны',\n",
       "       'Горбунки', 'Батово', 'Заневка', 'Иссад', 'Приморск', 'Мистолово',\n",
       "       'Новая ладога', 'Зимитицы', 'Барышево', 'Разметелево',\n",
       "       'Имени свердлова', 'Пеники', 'Рябово', 'Пудомяги',\n",
       "       'Станции корнево', 'Низино', 'Бегуницы', 'Поляны', 'Мга',\n",
       "       'Елизаветино', 'Кузнечное', 'Колтуши', 'Запорожское', 'Гостилицы',\n",
       "       'Малое карлино', 'Мичуринское', 'Имени морозова', 'Песочный',\n",
       "       'Сосново', 'Аро', 'Ильичево', 'Тайцы', 'Малое верево', 'Извара',\n",
       "       'Станции вещево', 'Село паша', 'Калитино', 'Ульяновка',\n",
       "       'Чудской бор', 'Дубровка', 'Мины', 'Войсковицы', 'Коркино',\n",
       "       'Ропша', 'Приладожский', 'Щеглово', 'Гаврилово', 'Лодейное поле',\n",
       "       'Рабитицы', 'Никольский', 'Кузьмолово', 'Малые колпаны',\n",
       "       'Петро-славянка', 'Назия', 'Репино', 'Углово', 'Старая малукса',\n",
       "       'Садовое товарищество рахья', 'Меньково', 'Старые бегуницы',\n",
       "       'Саперный', 'Семрино', 'Глажево', 'Кобринское', 'Гарболово',\n",
       "       'Юкки', 'Станции приветнинское', 'Мануйлово', 'Пчева', 'Цвылево',\n",
       "       'Мельниково', 'Пудость', 'Усть-луга', 'Светогорск', 'Любань',\n",
       "       'Селезнево', 'Каменногорск', 'Кривко', 'Глебычево', 'Парицы',\n",
       "       'Жилпоселок', 'Войскорово', 'Село никольское', 'Стеклянный',\n",
       "       'Важины', 'Мыза-ивановка', 'Село русско-высоцкое', 'Форносово',\n",
       "       'Село старая ладога', 'Житково', 'Виллози', 'Лампово', 'Шпаньково',\n",
       "       'Лаврики', 'Сумино', 'Возрождение', 'Старосиверская', 'Кикерино',\n",
       "       'Старое хинколово', 'Пригородный', 'Торфяное', 'Будогощь',\n",
       "       'Суходолье', 'Красная долина', 'Хапо-ое', 'Дружная горка',\n",
       "       'Лисий нос', 'Яльгелево', 'Село рождествено', 'Старополье',\n",
       "       'Левашово', 'Сяськелево', 'Камышовка',\n",
       "       'Садоводческое некоммерческое товарищество лесная поляна',\n",
       "       'Хязельки', 'Жилгородок', 'Ялгино', 'Новый учхоз', 'Гончарово',\n",
       "       'Почап', 'Саперное', 'Платформа 69-й километр', 'Каложицы',\n",
       "       'Фалилеево', 'Пельгора', 'Торошковичи', 'Белоостров', 'Алексеевка',\n",
       "       'Серебрянский', 'Лукаши', 'Тарасово', 'Кингисеппский',\n",
       "       'При железнодорожной станции вещево', 'Ушаки', 'Котлы', 'Сижно',\n",
       "       'Торосово', 'Форт красная горка', 'Новолисино', 'Станции громово',\n",
       "       'Глинка', 'Старая пустошь', 'Коммунары', 'Починок', 'Вознесенье',\n",
       "       'Разбегаево', 'Гладкое',\n",
       "       'При железнодорожной станции приветнинское', 'Тесово-4', 'Бор',\n",
       "       'Коробицыно', 'Большая вруда', 'Курковицы', 'Кобралово',\n",
       "       'Суоранда', 'Кондратьево', 'Счастье', 'Реброво', 'Тойворово',\n",
       "       'Семиозерье', 'Лесное', 'Совхозный', 'Ленинское', 'Суйда',\n",
       "       'Нижние осельки', 'Станции свирь', 'Перово', 'Высоцк', 'Село шум',\n",
       "       'Котельский', 'Станции лужайка', 'Большая пустомержа',\n",
       "       'Красносельское', 'Вахнова кара', 'Пижма', 'Кивеннапа север',\n",
       "       'Ромашки', 'Каськово', 'Куровицы', 'Плоское', 'Кирпичное',\n",
       "       'Ям-тесово', 'Раздолье', 'Терпилицы', 'Шугозеро', 'Ваганово',\n",
       "       'Пушное', 'Садовое товарищество садко', 'Усть-ижора', 'Выскатка',\n",
       "       'Свирьстрой', 'Громово', 'Кисельня', 'Трубников бор',\n",
       "       'Высокоключевой', 'Садовое товарищество приладожский',\n",
       "       'Пансионат зеленый бор', 'Ненимяки', 'Снегиревка', 'Рапполово',\n",
       "       'Пустынка', 'Большой сабск', 'Русско', 'Лупполово',\n",
       "       'Большое рейзино', 'Малая романовка', 'Дружноселье', 'Пчевжа',\n",
       "       'Володарское', 'Нижняя', 'Тихковицы', 'Борисова грива',\n",
       "       'Дзержинского'], dtype=object)"
      ]
     },
     "execution_count": 216,
     "metadata": {},
     "output_type": "execute_result"
    }
   ],
   "source": [
    "df.locality_name = df.locality_name.str.lower()\\\n",
    "    .replace('ё', 'е', regex=True)\\\n",
    "    .replace('поселок городского типа', 'поселок', regex=True)\\\n",
    "    .replace('городской поселок', 'поселок', regex=True)\\\n",
    "    .replace('коттеджный поселок', 'поселок', regex=True)\\\n",
    "    .replace('поселок ', '', regex=True)\\\n",
    "    .replace('деревня ', '', regex=True)\\\n",
    "    .str.capitalize()\n",
    "\n",
    "\n",
    "len(df.locality_name.unique())\n",
    "df.locality_name.unique()"
   ]
  },
  {
   "cell_type": "markdown",
   "metadata": {},
   "source": [
    "### Посчитайте и добавьте в таблицу новые столбцы"
   ]
  },
  {
   "cell_type": "markdown",
   "metadata": {},
   "source": [
    "добавим поля:  \n",
    "- цена одного квадратного метра - '*price_per_meter*';\n",
    "- день недели публикации объявления (0 — понедельник, 1 — вторник и так далее) - '*dow_publication*';  \n",
    "- месяц публикации объявления - '*month_publication*';  \n",
    "- год публикации объявления - '*year_publication*';  \n",
    "- тип этажа квартиры (значения — «первый», «последний», «другой») - '*floor_type*';  \n",
    "- расстояние до центра города в километрах (переведите из м в км и округлите до целых значений) - '*distance_center*'"
   ]
  },
  {
   "cell_type": "code",
   "execution_count": 225,
   "metadata": {},
   "outputs": [],
   "source": [
    "df['price_per_meter'] = df.last_price / df.total_area\n",
    "df['dow_publication'] = df.first_day_exposition.dt.day_of_week\n",
    "df['month_publication'] = df.first_day_exposition.dt.month\n",
    "df['year_publication'] = df.first_day_exposition.dt.year\n",
    "df['distance_center'] = (df.cityCenters_nearest / 1000).round()\n",
    "\n",
    "def floor_type_func(row):\n",
    "    if row.floor == 1:\n",
    "        return 'первый'\n",
    "    elif row.floor == row.floors_total:\n",
    "        return 'последний'\n",
    "    else:\n",
    "        return 'другой'\n",
    "\n",
    "df['floor_type'] = df.apply(floor_type_func, axis=1)"
   ]
  },
  {
   "cell_type": "code",
   "execution_count": 226,
   "metadata": {},
   "outputs": [
    {
     "data": {
      "text/html": [
       "<div>\n",
       "<style scoped>\n",
       "    .dataframe tbody tr th:only-of-type {\n",
       "        vertical-align: middle;\n",
       "    }\n",
       "\n",
       "    .dataframe tbody tr th {\n",
       "        vertical-align: top;\n",
       "    }\n",
       "\n",
       "    .dataframe thead th {\n",
       "        text-align: right;\n",
       "    }\n",
       "</style>\n",
       "<table border=\"1\" class=\"dataframe\">\n",
       "  <thead>\n",
       "    <tr style=\"text-align: right;\">\n",
       "      <th></th>\n",
       "      <th>total_images</th>\n",
       "      <th>last_price</th>\n",
       "      <th>total_area</th>\n",
       "      <th>first_day_exposition</th>\n",
       "      <th>rooms</th>\n",
       "      <th>ceiling_height</th>\n",
       "      <th>floors_total</th>\n",
       "      <th>living_area</th>\n",
       "      <th>floor</th>\n",
       "      <th>is_apartment</th>\n",
       "      <th>...</th>\n",
       "      <th>parks_nearest</th>\n",
       "      <th>ponds_around3000</th>\n",
       "      <th>ponds_nearest</th>\n",
       "      <th>days_exposition</th>\n",
       "      <th>price_per_meter</th>\n",
       "      <th>dow_publication</th>\n",
       "      <th>month_publication</th>\n",
       "      <th>year_publication</th>\n",
       "      <th>distance_center</th>\n",
       "      <th>floor_type</th>\n",
       "    </tr>\n",
       "  </thead>\n",
       "  <tbody>\n",
       "    <tr>\n",
       "      <th>124</th>\n",
       "      <td>20</td>\n",
       "      <td>12490000.0</td>\n",
       "      <td>87.8</td>\n",
       "      <td>2019-03-10</td>\n",
       "      <td>3</td>\n",
       "      <td>2.65</td>\n",
       "      <td>12</td>\n",
       "      <td>45.1</td>\n",
       "      <td>3</td>\n",
       "      <td>False</td>\n",
       "      <td>...</td>\n",
       "      <td>NaN</td>\n",
       "      <td>1</td>\n",
       "      <td>516.0</td>\n",
       "      <td>NaN</td>\n",
       "      <td>142255.125285</td>\n",
       "      <td>6</td>\n",
       "      <td>3</td>\n",
       "      <td>2019</td>\n",
       "      <td>14.0</td>\n",
       "      <td>другой</td>\n",
       "    </tr>\n",
       "    <tr>\n",
       "      <th>8196</th>\n",
       "      <td>3</td>\n",
       "      <td>4600000.0</td>\n",
       "      <td>66.0</td>\n",
       "      <td>2018-03-06</td>\n",
       "      <td>3</td>\n",
       "      <td>2.50</td>\n",
       "      <td>9</td>\n",
       "      <td>29.5</td>\n",
       "      <td>5</td>\n",
       "      <td>False</td>\n",
       "      <td>...</td>\n",
       "      <td>NaN</td>\n",
       "      <td>0</td>\n",
       "      <td>NaN</td>\n",
       "      <td>7.0</td>\n",
       "      <td>69696.969697</td>\n",
       "      <td>1</td>\n",
       "      <td>3</td>\n",
       "      <td>2018</td>\n",
       "      <td>17.0</td>\n",
       "      <td>другой</td>\n",
       "    </tr>\n",
       "    <tr>\n",
       "      <th>9020</th>\n",
       "      <td>10</td>\n",
       "      <td>2595000.0</td>\n",
       "      <td>36.6</td>\n",
       "      <td>2018-09-12</td>\n",
       "      <td>1</td>\n",
       "      <td>2.65</td>\n",
       "      <td>15</td>\n",
       "      <td>14.4</td>\n",
       "      <td>1</td>\n",
       "      <td>False</td>\n",
       "      <td>...</td>\n",
       "      <td>NaN</td>\n",
       "      <td>0</td>\n",
       "      <td>NaN</td>\n",
       "      <td>149.0</td>\n",
       "      <td>70901.639344</td>\n",
       "      <td>2</td>\n",
       "      <td>9</td>\n",
       "      <td>2018</td>\n",
       "      <td>NaN</td>\n",
       "      <td>первый</td>\n",
       "    </tr>\n",
       "    <tr>\n",
       "      <th>9158</th>\n",
       "      <td>3</td>\n",
       "      <td>15500000.0</td>\n",
       "      <td>118.0</td>\n",
       "      <td>2018-03-14</td>\n",
       "      <td>3</td>\n",
       "      <td>2.65</td>\n",
       "      <td>24</td>\n",
       "      <td>80.0</td>\n",
       "      <td>21</td>\n",
       "      <td>False</td>\n",
       "      <td>...</td>\n",
       "      <td>652.0</td>\n",
       "      <td>0</td>\n",
       "      <td>NaN</td>\n",
       "      <td>179.0</td>\n",
       "      <td>131355.932203</td>\n",
       "      <td>2</td>\n",
       "      <td>3</td>\n",
       "      <td>2018</td>\n",
       "      <td>10.0</td>\n",
       "      <td>другой</td>\n",
       "    </tr>\n",
       "    <tr>\n",
       "      <th>6621</th>\n",
       "      <td>20</td>\n",
       "      <td>99000000.0</td>\n",
       "      <td>488.0</td>\n",
       "      <td>2017-04-09</td>\n",
       "      <td>5</td>\n",
       "      <td>2.95</td>\n",
       "      <td>20</td>\n",
       "      <td>216.0</td>\n",
       "      <td>17</td>\n",
       "      <td>False</td>\n",
       "      <td>...</td>\n",
       "      <td>646.0</td>\n",
       "      <td>1</td>\n",
       "      <td>368.0</td>\n",
       "      <td>351.0</td>\n",
       "      <td>202868.852459</td>\n",
       "      <td>6</td>\n",
       "      <td>4</td>\n",
       "      <td>2017</td>\n",
       "      <td>5.0</td>\n",
       "      <td>другой</td>\n",
       "    </tr>\n",
       "    <tr>\n",
       "      <th>20935</th>\n",
       "      <td>11</td>\n",
       "      <td>3500000.0</td>\n",
       "      <td>70.7</td>\n",
       "      <td>2016-01-19</td>\n",
       "      <td>2</td>\n",
       "      <td>2.65</td>\n",
       "      <td>9</td>\n",
       "      <td>35.9</td>\n",
       "      <td>2</td>\n",
       "      <td>False</td>\n",
       "      <td>...</td>\n",
       "      <td>NaN</td>\n",
       "      <td>0</td>\n",
       "      <td>NaN</td>\n",
       "      <td>160.0</td>\n",
       "      <td>49504.950495</td>\n",
       "      <td>1</td>\n",
       "      <td>1</td>\n",
       "      <td>2016</td>\n",
       "      <td>NaN</td>\n",
       "      <td>другой</td>\n",
       "    </tr>\n",
       "    <tr>\n",
       "      <th>14234</th>\n",
       "      <td>10</td>\n",
       "      <td>7800000.0</td>\n",
       "      <td>62.0</td>\n",
       "      <td>2018-03-14</td>\n",
       "      <td>2</td>\n",
       "      <td>2.75</td>\n",
       "      <td>16</td>\n",
       "      <td>27.0</td>\n",
       "      <td>10</td>\n",
       "      <td>False</td>\n",
       "      <td>...</td>\n",
       "      <td>NaN</td>\n",
       "      <td>0</td>\n",
       "      <td>NaN</td>\n",
       "      <td>92.0</td>\n",
       "      <td>125806.451613</td>\n",
       "      <td>2</td>\n",
       "      <td>3</td>\n",
       "      <td>2018</td>\n",
       "      <td>12.0</td>\n",
       "      <td>другой</td>\n",
       "    </tr>\n",
       "    <tr>\n",
       "      <th>18612</th>\n",
       "      <td>10</td>\n",
       "      <td>12000000.0</td>\n",
       "      <td>67.0</td>\n",
       "      <td>2018-03-06</td>\n",
       "      <td>2</td>\n",
       "      <td>2.70</td>\n",
       "      <td>16</td>\n",
       "      <td>54.0</td>\n",
       "      <td>16</td>\n",
       "      <td>False</td>\n",
       "      <td>...</td>\n",
       "      <td>302.0</td>\n",
       "      <td>1</td>\n",
       "      <td>849.0</td>\n",
       "      <td>125.0</td>\n",
       "      <td>179104.477612</td>\n",
       "      <td>1</td>\n",
       "      <td>3</td>\n",
       "      <td>2018</td>\n",
       "      <td>9.0</td>\n",
       "      <td>последний</td>\n",
       "    </tr>\n",
       "    <tr>\n",
       "      <th>16778</th>\n",
       "      <td>10</td>\n",
       "      <td>5890000.0</td>\n",
       "      <td>69.0</td>\n",
       "      <td>2017-10-13</td>\n",
       "      <td>3</td>\n",
       "      <td>2.60</td>\n",
       "      <td>9</td>\n",
       "      <td>42.7</td>\n",
       "      <td>1</td>\n",
       "      <td>False</td>\n",
       "      <td>...</td>\n",
       "      <td>NaN</td>\n",
       "      <td>1</td>\n",
       "      <td>394.0</td>\n",
       "      <td>222.0</td>\n",
       "      <td>85362.318841</td>\n",
       "      <td>4</td>\n",
       "      <td>10</td>\n",
       "      <td>2017</td>\n",
       "      <td>7.0</td>\n",
       "      <td>первый</td>\n",
       "    </tr>\n",
       "    <tr>\n",
       "      <th>12884</th>\n",
       "      <td>20</td>\n",
       "      <td>4750000.0</td>\n",
       "      <td>40.0</td>\n",
       "      <td>2019-03-22</td>\n",
       "      <td>1</td>\n",
       "      <td>2.70</td>\n",
       "      <td>10</td>\n",
       "      <td>18.0</td>\n",
       "      <td>2</td>\n",
       "      <td>False</td>\n",
       "      <td>...</td>\n",
       "      <td>NaN</td>\n",
       "      <td>0</td>\n",
       "      <td>NaN</td>\n",
       "      <td>10.0</td>\n",
       "      <td>118750.000000</td>\n",
       "      <td>4</td>\n",
       "      <td>3</td>\n",
       "      <td>2019</td>\n",
       "      <td>14.0</td>\n",
       "      <td>другой</td>\n",
       "    </tr>\n",
       "  </tbody>\n",
       "</table>\n",
       "<p>10 rows × 28 columns</p>\n",
       "</div>"
      ],
      "text/plain": [
       "       total_images  last_price  total_area first_day_exposition  rooms  \\\n",
       "124              20  12490000.0        87.8           2019-03-10      3   \n",
       "8196              3   4600000.0        66.0           2018-03-06      3   \n",
       "9020             10   2595000.0        36.6           2018-09-12      1   \n",
       "9158              3  15500000.0       118.0           2018-03-14      3   \n",
       "6621             20  99000000.0       488.0           2017-04-09      5   \n",
       "20935            11   3500000.0        70.7           2016-01-19      2   \n",
       "14234            10   7800000.0        62.0           2018-03-14      2   \n",
       "18612            10  12000000.0        67.0           2018-03-06      2   \n",
       "16778            10   5890000.0        69.0           2017-10-13      3   \n",
       "12884            20   4750000.0        40.0           2019-03-22      1   \n",
       "\n",
       "       ceiling_height  floors_total  living_area  floor  is_apartment  ...  \\\n",
       "124              2.65            12         45.1      3         False  ...   \n",
       "8196             2.50             9         29.5      5         False  ...   \n",
       "9020             2.65            15         14.4      1         False  ...   \n",
       "9158             2.65            24         80.0     21         False  ...   \n",
       "6621             2.95            20        216.0     17         False  ...   \n",
       "20935            2.65             9         35.9      2         False  ...   \n",
       "14234            2.75            16         27.0     10         False  ...   \n",
       "18612            2.70            16         54.0     16         False  ...   \n",
       "16778            2.60             9         42.7      1         False  ...   \n",
       "12884            2.70            10         18.0      2         False  ...   \n",
       "\n",
       "       parks_nearest  ponds_around3000  ponds_nearest  days_exposition  \\\n",
       "124              NaN                 1          516.0              NaN   \n",
       "8196             NaN                 0            NaN              7.0   \n",
       "9020             NaN                 0            NaN            149.0   \n",
       "9158           652.0                 0            NaN            179.0   \n",
       "6621           646.0                 1          368.0            351.0   \n",
       "20935            NaN                 0            NaN            160.0   \n",
       "14234            NaN                 0            NaN             92.0   \n",
       "18612          302.0                 1          849.0            125.0   \n",
       "16778            NaN                 1          394.0            222.0   \n",
       "12884            NaN                 0            NaN             10.0   \n",
       "\n",
       "      price_per_meter  dow_publication  month_publication  year_publication  \\\n",
       "124     142255.125285                6                  3              2019   \n",
       "8196     69696.969697                1                  3              2018   \n",
       "9020     70901.639344                2                  9              2018   \n",
       "9158    131355.932203                2                  3              2018   \n",
       "6621    202868.852459                6                  4              2017   \n",
       "20935    49504.950495                1                  1              2016   \n",
       "14234   125806.451613                2                  3              2018   \n",
       "18612   179104.477612                1                  3              2018   \n",
       "16778    85362.318841                4                 10              2017   \n",
       "12884   118750.000000                4                  3              2019   \n",
       "\n",
       "       distance_center  floor_type  \n",
       "124               14.0      другой  \n",
       "8196              17.0      другой  \n",
       "9020               NaN      первый  \n",
       "9158              10.0      другой  \n",
       "6621               5.0      другой  \n",
       "20935              NaN      другой  \n",
       "14234             12.0      другой  \n",
       "18612              9.0   последний  \n",
       "16778              7.0      первый  \n",
       "12884             14.0      другой  \n",
       "\n",
       "[10 rows x 28 columns]"
      ]
     },
     "execution_count": 226,
     "metadata": {},
     "output_type": "execute_result"
    }
   ],
   "source": [
    "df.sample(10)"
   ]
  },
  {
   "cell_type": "markdown",
   "metadata": {},
   "source": [
    "### Проведите исследовательский анализ данных"
   ]
  },
  {
   "cell_type": "markdown",
   "metadata": {},
   "source": [
    "проанализируем следующие параметры объектов:\n",
    "- общая площадь;\n",
    "- жилая площадь;\n",
    "- площадь кухни;\n",
    "- цена объекта;\n",
    "- количество комнат;\n",
    "- высота потолков;\n",
    "- этаж квартиры;\n",
    "- тип этажа квартиры («первый», «последний», «другой»);\n",
    "- общее количество этажей в доме;\n",
    "- расстояние до центра города в метрах;\n",
    "- расстояние до ближайшего аэропорта;\n",
    "- расстояние до ближайшего парка;\n",
    "- день и месяц публикации объявления."
   ]
  },
  {
   "cell_type": "code",
   "execution_count": 232,
   "metadata": {},
   "outputs": [
    {
     "data": {
      "text/plain": [
       "<AxesSubplot:>"
      ]
     },
     "execution_count": 232,
     "metadata": {},
     "output_type": "execute_result"
    },
    {
     "data": {
      "image/png": "[encoded data removed]",
      "text/plain": [
       "<Figure size 640x480 with 1 Axes>"
      ]
     },
     "metadata": {},
     "output_type": "display_data"
    }
   ],
   "source": [
    "df.total_area.hist(range=(10, 200), bins=50)"
   ]
  },
  {
   "cell_type": "code",
   "execution_count": 235,
   "metadata": {},
   "outputs": [
    {
     "data": {
      "text/plain": [
       "<AxesSubplot:>"
      ]
     },
     "execution_count": 235,
     "metadata": {},
     "output_type": "execute_result"
    },
    {
     "data": {
      "image/png": "[encoded data removed]",
      "text/plain": [
       "<Figure size 640x480 with 1 Axes>"
      ]
     },
     "metadata": {},
     "output_type": "display_data"
    }
   ],
   "source": [
    "df.kitchen_area.hist(range=(0, 30), bins=50)"
   ]
  },
  {
   "cell_type": "code",
   "execution_count": 245,
   "metadata": {},
   "outputs": [
    {
     "data": {
      "text/plain": [
       "<AxesSubplot:>"
      ]
     },
     "execution_count": 245,
     "metadata": {},
     "output_type": "execute_result"
    },
    {
     "data": {
      "image/png": "[encoded data removed]",
      "text/plain": [
       "<Figure size 640x480 with 1 Axes>"
      ]
     },
     "metadata": {},
     "output_type": "display_data"
    }
   ],
   "source": [
    "df.rooms.hist(range=(1, 10))"
   ]
  },
  {
   "cell_type": "code",
   "execution_count": 249,
   "metadata": {},
   "outputs": [
    {
     "data": {
      "text/plain": [
       "763000000.0"
      ]
     },
     "execution_count": 249,
     "metadata": {},
     "output_type": "execute_result"
    },
    {
     "data": {
      "text/plain": [
       "<AxesSubplot:>"
      ]
     },
     "execution_count": 249,
     "metadata": {},
     "output_type": "execute_result"
    },
    {
     "data": {
      "image/png": "[encoded data removed]",
      "text/plain": [
       "<Figure size 640x480 with 1 Axes>"
      ]
     },
     "metadata": {},
     "output_type": "display_data"
    }
   ],
   "source": [
    "df.last_price.max()\n",
    "df.last_price.hist(bins=100, range=(10000000, 100000000))"
   ]
  },
  {
   "cell_type": "code",
   "execution_count": 255,
   "metadata": {},
   "outputs": [
    {
     "data": {
      "text/plain": [
       "<AxesSubplot:>"
      ]
     },
     "execution_count": 255,
     "metadata": {},
     "output_type": "execute_result"
    },
    {
     "data": {
      "image/png": "[encoded data removed]",
      "text/plain": [
       "<Figure size 640x480 with 1 Axes>"
      ]
     },
     "metadata": {},
     "output_type": "display_data"
    }
   ],
   "source": [
    "df.ceiling_height.hist(range=(2, 5), bins=30)"
   ]
  },
  {
   "cell_type": "code",
   "execution_count": 258,
   "metadata": {},
   "outputs": [
    {
     "data": {
      "text/plain": [
       "<AxesSubplot:>"
      ]
     },
     "execution_count": 258,
     "metadata": {},
     "output_type": "execute_result"
    },
    {
     "data": {
      "image/png": "[encoded data removed]",
      "text/plain": [
       "<Figure size 640x480 with 1 Axes>"
      ]
     },
     "metadata": {},
     "output_type": "display_data"
    }
   ],
   "source": [
    "m = df.floor.max()\n",
    "df.floor.hist(bins=m)"
   ]
  },
  {
   "cell_type": "code",
   "execution_count": 259,
   "metadata": {},
   "outputs": [
    {
     "data": {
      "text/plain": [
       "<AxesSubplot:>"
      ]
     },
     "execution_count": 259,
     "metadata": {},
     "output_type": "execute_result"
    },
    {
     "data": {
      "image/png": "[encoded data removed]",
      "text/plain": [
       "<Figure size 640x480 with 1 Axes>"
      ]
     },
     "metadata": {},
     "output_type": "display_data"
    }
   ],
   "source": [
    "df.floor_type.hist()"
   ]
  },
  {
   "cell_type": "code",
   "execution_count": 261,
   "metadata": {},
   "outputs": [
    {
     "data": {
      "text/plain": [
       "<AxesSubplot:>"
      ]
     },
     "execution_count": 261,
     "metadata": {},
     "output_type": "execute_result"
    },
    {
     "data": {
      "image/png": "[encoded data removed]",
      "text/plain": [
       "<Figure size 640x480 with 1 Axes>"
      ]
     },
     "metadata": {},
     "output_type": "display_data"
    }
   ],
   "source": [
    "df.floors_total.hist(bins=m)"
   ]
  },
  {
   "cell_type": "code",
   "execution_count": 268,
   "metadata": {},
   "outputs": [
    {
     "data": {
      "text/plain": [
       "<AxesSubplot:>"
      ]
     },
     "execution_count": 268,
     "metadata": {},
     "output_type": "execute_result"
    },
    {
     "data": {
      "image/png": "[encoded data removed]",
      "text/plain": [
       "<Figure size 640x480 with 1 Axes>"
      ]
     },
     "metadata": {},
     "output_type": "display_data"
    }
   ],
   "source": [
    "df.cityCenters_nearest.hist(bins=30)"
   ]
  },
  {
   "cell_type": "code",
   "execution_count": 265,
   "metadata": {},
   "outputs": [
    {
     "data": {
      "text/plain": [
       "<AxesSubplot:>"
      ]
     },
     "execution_count": 265,
     "metadata": {},
     "output_type": "execute_result"
    },
    {
     "data": {
      "image/png": "[encoded data removed]",
      "text/plain": [
       "<Figure size 640x480 with 1 Axes>"
      ]
     },
     "metadata": {},
     "output_type": "display_data"
    }
   ],
   "source": [
    "df.airports_nearest.hist(bins=30)"
   ]
  },
  {
   "cell_type": "code",
   "execution_count": 267,
   "metadata": {},
   "outputs": [
    {
     "data": {
      "text/plain": [
       "<AxesSubplot:>"
      ]
     },
     "execution_count": 267,
     "metadata": {},
     "output_type": "execute_result"
    },
    {
     "data": {
      "image/png": "[encoded data removed]",
      "text/plain": [
       "<Figure size 640x480 with 1 Axes>"
      ]
     },
     "metadata": {},
     "output_type": "display_data"
    }
   ],
   "source": [
    "df.parks_nearest.hist(bins=30)"
   ]
  },
  {
   "cell_type": "markdown",
   "metadata": {},
   "source": [
    "### Общий вывод"
   ]
  },
  {
   "cell_type": "markdown",
   "metadata": {},
   "source": []
  },
  {
   "cell_type": "markdown",
   "metadata": {},
   "source": [
    "**Чек-лист готовности проекта**\n",
    "\n",
    "Поставьте 'x' в выполненных пунктах. Далее нажмите Shift+Enter."
   ]
  },
  {
   "cell_type": "markdown",
   "metadata": {},
   "source": [
    "- [x]  открыт файл\n",
    "- [x]  файлы изучены (выведены первые строки, метод `info()`, гистограммы и т.д.)\n",
    "- [x]  определены пропущенные значения\n",
    "- [x]  заполнены пропущенные значения там, где это возможно\n",
    "- [x]  есть пояснение, какие пропущенные значения обнаружены\n",
    "- [x]  изменены типы данных\n",
    "- [x]  есть пояснение, в каких столбцах изменены типы и почему\n",
    "- [x]  устранены неявные дубликаты в названиях населённых пунктов\n",
    "- [x]  устранены редкие и выбивающиеся значения (аномалии) во всех столбцах\n",
    "- [x]  посчитано и добавлено в таблицу: цена одного квадратного метра\n",
    "- [x]  посчитано и добавлено в таблицу: день публикации объявления (0 - понедельник, 1 - вторник и т.д.)\n",
    "- [x]  посчитано и добавлено в таблицу: месяц публикации объявления\n",
    "- [x]  посчитано и добавлено в таблицу: год публикации объявления\n",
    "- [x]  посчитано и добавлено в таблицу: тип этажа квартиры (значения — «первый», «последний», «другой»)\n",
    "- [x]  посчитано и добавлено в таблицу: расстояние в км до центра города\n",
    "- [x]  изучены и описаны следующие параметры:\n",
    "        - общая площадь;\n",
    "        - жилая площадь;\n",
    "        - площадь кухни;\n",
    "        - цена объекта;\n",
    "        - количество комнат;\n",
    "        - высота потолков;\n",
    "        - этаж квартиры;\n",
    "        - тип этажа квартиры («первый», «последний», «другой»);\n",
    "        - общее количество этажей в доме;\n",
    "        - расстояние до центра города в метрах;\n",
    "        - расстояние до ближайшего аэропорта;\n",
    "        - расстояние до ближайшего парка;\n",
    "        - день и месяц публикации объявления\n",
    "- [x]  построены гистограммы для каждого параметра\n",
    "- [ ]  выполнено задание: \"Изучите, как быстро продавались квартиры (столбец days_exposition). Этот параметр показывает, сколько дней «висело» каждое объявление.\n",
    "    - Постройте гистограмму.\n",
    "    - Посчитайте среднее и медиану.\n",
    "    - В ячейке типа markdown опишите, сколько обычно занимает продажа. Какие продажи можно считать быстрыми, а какие — необычно долгими?\"\n",
    "- [ ]  выполнено задание: \"Какие факторы больше всего влияют на общую (полную) стоимость объекта? Постройте графики, которые покажут зависимость цены от указанных ниже параметров. Для подготовки данных перед визуализацией вы можете использовать сводные таблицы.\"\n",
    "        - общей площади;\n",
    "        - жилой площади;\n",
    "        - площади кухни;\n",
    "        - количество комнат;\n",
    "        - типа этажа, на котором расположена квартира (первый, последний, другой);\n",
    "        - даты размещения (день недели, месяц, год);\n",
    "- [ ]  выполнено задание: \"Посчитайте среднюю цену одного квадратного метра в 10 населённых пунктах с наибольшим числом объявлений. Выделите населённые пункты с самой высокой и низкой стоимостью квадратного метра. Эти данные можно найти по имени в столбце `locality_name`.\"\n",
    "- [ ]  выполнено задание: \"Ранее вы посчитали расстояние до центра в километрах. Теперь выделите квартиры в Санкт-Петербурге с помощью столбца `locality_name` и вычислите среднюю цену каждого километра. Опишите, как стоимость объектов зависит от расстояния до центра города.\"\n",
    "- [ ]  в каждом этапе есть промежуточные выводы\n",
    "- [ ]  есть общий вывод"
   ]
  },
  {
   "cell_type": "markdown",
   "metadata": {},
   "source": []
  }
 ],
 "metadata": {
  "kernelspec": {
   "display_name": "Python 3.9.10 ('.venv': venv)",
   "language": "python",
   "name": "python3"
  },
  "language_info": {
   "codemirror_mode": {
    "name": "ipython",
    "version": 3
   },
   "file_extension": ".py",
   "mimetype": "text/x-python",
   "name": "python",
   "nbconvert_exporter": "python",
   "pygments_lexer": "ipython3",
   "version": "3.9.13"
  },
  "toc": {
   "base_numbering": 1,
   "nav_menu": {},
   "number_sections": true,
   "sideBar": true,
   "skip_h1_title": true,
   "title_cell": "Table of Contents",
   "title_sidebar": "Contents",
   "toc_cell": false,
   "toc_position": {},
   "toc_section_display": true,
   "toc_window_display": false
  },
  "vscode": {
   "interpreter": {
    "hash": "81adf5c83a32e4f553c4593aba98a2055077554018e57d57ee48360059432d6b"
   }
  }
 },
 "nbformat": 4,
 "nbformat_minor": 2
}
